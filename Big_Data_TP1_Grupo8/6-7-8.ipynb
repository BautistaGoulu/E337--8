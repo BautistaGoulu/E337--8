{
 "cells": [
  {
   "cell_type": "code",
   "execution_count": 7,
   "id": "37f5063d-5d88-4250-95b0-1ed35f6e2dd1",
   "metadata": {},
   "outputs": [],
   "source": [
    "import numpy as np\n",
    "import matplotlib.pyplot as plt\n"
   ]
  },
  {
   "cell_type": "code",
   "execution_count": 9,
   "id": "7ff8abed-c050-440e-aeff-4c0512a9c20d",
   "metadata": {},
   "outputs": [
    {
     "data": {
      "text/plain": [
       "'C:\\\\Users\\\\gianf\\\\OneDrive\\\\Documentos\\\\GitHub\\\\E337--8\\\\Big_Data_TP1_Grupo8'"
      ]
     },
     "execution_count": 9,
     "metadata": {},
     "output_type": "execute_result"
    }
   ],
   "source": [
    "import pandas as pd\n",
    "import os\n",
    "os.getcwd() # Ver donde estamos ubicados\n",
    "\n"
   ]
  },
  {
   "cell_type": "code",
   "execution_count": 11,
   "id": "1fad84d0-9a23-44bb-bd8e-0b189536de4a",
   "metadata": {},
   "outputs": [],
   "source": [
    "os.chdir(\"C:\\\\Users\\\\gianf\\\\OneDrive\\\\Documentos\\\\GitHub\\\\E337--8\\\\Big_Data_TP1_Grupo8\") # Ubicarnos en la carpeta con todos los archivos de esta tutoria"
   ]
  },
  {
   "cell_type": "code",
   "execution_count": 13,
   "id": "aba15776-ba2c-4053-913b-18d481080546",
   "metadata": {},
   "outputs": [],
   "source": [
    "df = pd.read_excel('Tabla_acortada1.xlsx')"
   ]
  },
  {
   "cell_type": "code",
   "execution_count": 14,
   "id": "e94fdd82-25d9-4d82-ba75-3b1dcddb25c1",
   "metadata": {},
   "outputs": [
    {
     "name": "stdout",
     "output_type": "stream",
     "text": [
      "Columnas del DataFrame: Index(['CODUSU', 'ANO4', 'TRIMESTRE', 'NRO_HOGAR', 'COMPONENTE', 'H15',\n",
      "       'REGION', 'MAS_500', 'AGLOMERADO', 'PONDERA',\n",
      "       ...\n",
      "       'IDECCFR', 'RDECCFR', 'GDECCFR', 'PDECCFR', 'ADECCFR', 'PONDIH',\n",
      "       'PJ1_1', 'PJ2_1', 'PJ3_1', 'IDIMPP'],\n",
      "      dtype='object', length=181)\n"
     ]
    }
   ],
   "source": [
    "# Verificar los nombres de las columnas\n",
    "print(\"Columnas del DataFrame:\", df.columns)"
   ]
  },
  {
   "cell_type": "code",
   "execution_count": 15,
   "id": "a16e6528-9aa1-4a81-9d66-77a879e40959",
   "metadata": {},
   "outputs": [],
   "source": [
    "#2d\n",
    "diccionario_reemplazo = {  \n",
    "    \"CH04\": {  \n",
    "        1: \"Hombre\",  \n",
    "        2: \"Mujer\",  \n",
    "        \"Varón\": \"Hombre\"  # Unificar nombres  \n",
    "    },  \n",
    "    \"TRIMESTRE\": {  \n",
    "        1: \"1er. Trimestre\",  \n",
    "        \"1er. Trimestre\": \"Primer Trimestre\"  # Unificar formato  \n",
    "    },  \n",
    "    \"REGION\": {  \n",
    "        43: \"Pampeana\"  # Solo tiene este valor  \n",
    "    },  \n",
    "    \"ESTADO\": {  \n",
    "        1: \"Ocupado\",  \n",
    "        2: \"Desocupado\",  \n",
    "        3: \"Inactivo\",  \n",
    "        4: \"Menor de 10 años\"  \n",
    "    }  \n",
    "}\n",
    "df.replace(diccionario_reemplazo, inplace=True)\n"
   ]
  },
  {
   "cell_type": "code",
   "execution_count": 16,
   "id": "0f8f0cbb-8e63-43b4-bca9-8a56d1f40fb3",
   "metadata": {},
   "outputs": [
    {
     "data": {
      "text/plain": [
       "array(['Ocupado', 'Inactivo', 'Menor de 10 años', 'Desocupado', 0],\n",
       "      dtype=object)"
      ]
     },
     "execution_count": 16,
     "metadata": {},
     "output_type": "execute_result"
    }
   ],
   "source": [
    "df[\"ESTADO\"].unique()"
   ]
  },
  {
   "cell_type": "code",
   "execution_count": 17,
   "id": "f36b8b19-8e45-4861-882a-cec77916972d",
   "metadata": {},
   "outputs": [],
   "source": [
    "# Identificar las observaciones donde no se respondió la condición de actividad (ESTADO=0)\n",
    "norespondieron = df[df['ESTADO'] == 0]"
   ]
  },
  {
   "cell_type": "code",
   "execution_count": 18,
   "id": "7de34a65-7f57-4179-9c21-38d0c20bca6a",
   "metadata": {},
   "outputs": [],
   "source": [
    "# Guardar las observaciones que no respondieron en una nueva base\n",
    "norespondieron.to_excel('norespondieron.xlsx', index=False)\n"
   ]
  },
  {
   "cell_type": "code",
   "execution_count": 19,
   "id": "c1cc1363-5d7c-49c7-92be-5a18b3bd2fc4",
   "metadata": {},
   "outputs": [],
   "source": [
    "# Guardar las observaciones que respondieron en una nueva base\n",
    "respondieron = df[df['ESTADO'] != 0]\n",
    "respondieron.to_excel('respondieron.xlsx', index=False)\n"
   ]
  },
  {
   "cell_type": "code",
   "execution_count": 20,
   "id": "aa15bb5b-5ad7-4267-9e7b-ace27ae92372",
   "metadata": {},
   "outputs": [
    {
     "name": "stdout",
     "output_type": "stream",
     "text": [
      "Número de personas que no respondieron cuál es su condición de actividad: 2\n"
     ]
    }
   ],
   "source": [
    "# Contar el número de personas que no respondieron cuál es su condición de actividad\n",
    "num_norespondieron = len(norespondieron)\n",
    "print(f'Número de personas que no respondieron cuál es su condición de actividad: {num_norespondieron}')"
   ]
  },
  {
   "cell_type": "code",
   "execution_count": 21,
   "id": "56230b38-8a0a-475c-9e10-749982b7b2a6",
   "metadata": {},
   "outputs": [],
   "source": [
    "import os"
   ]
  },
  {
   "cell_type": "code",
   "execution_count": 24,
   "id": "c26f946b-c047-4b51-a340-53e992dddc7b",
   "metadata": {},
   "outputs": [
    {
     "name": "stderr",
     "output_type": "stream",
     "text": [
      "C:\\Users\\gianf\\AppData\\Local\\Temp\\ipykernel_10008\\3662768976.py:3: SettingWithCopyWarning: \n",
      "A value is trying to be set on a copy of a slice from a DataFrame.\n",
      "Try using .loc[row_indexer,col_indexer] = value instead\n",
      "\n",
      "See the caveats in the documentation: https://pandas.pydata.org/pandas-docs/stable/user_guide/indexing.html#returning-a-view-versus-a-copy\n",
      "  respondieron.loc[:, 'PEA'] = respondieron['ESTADO'].apply(lambda x: 1 if x in [1, 2] else 0)\n"
     ]
    }
   ],
   "source": [
    "# Agregar la columna \"PEA\"\n",
    "# Consideramos PEA (Población Económicamente Activa) a aquellos con ESTADO 1 (ocupados) o 2 (desocupados)\n",
    "respondieron.loc[:, 'PEA'] = respondieron['ESTADO'].apply(lambda x: 1 if x in [1, 2] else 0)\n"
   ]
  },
  {
   "cell_type": "code",
   "execution_count": 43,
   "id": "77111657-e3a5-4682-bf19-26f9de7af244",
   "metadata": {},
   "outputs": [],
   "source": [
    "# Guardar la base respondieron con la nueva columna \"PEA\"\n",
    "respondieron.to_excel('respondieron.xlsx', index=False)\n"
   ]
  },
  {
   "cell_type": "code",
   "execution_count": 44,
   "id": "39f282e3-b7b8-4185-818e-7d829cd046c0",
   "metadata": {},
   "outputs": [
    {
     "name": "stdout",
     "output_type": "stream",
     "text": [
      "Datos en la base respondieron:\n",
      "                           CODUSU  ANO4       TRIMESTRE  NRO_HOGAR COMPONENTE  \\\n",
      "0  TQRMNOSYUHKNKMCDEIGED00856897  2024  1er. Trimestre          1          1   \n",
      "1  TQRMNOSYUHKNKMCDEIGED00856897  2024  1er. Trimestre          1          2   \n",
      "2  TQRMNORTVHLOKQCDEIMBF00855868  2024  1er. Trimestre          1          1   \n",
      "3  TQRMNORTVHLOKQCDEIMBF00855868  2024  1er. Trimestre          1          2   \n",
      "4  TQRMNORSXHMLLOCDEIMBF00802814  2024  1er. Trimestre          1          1   \n",
      "\n",
      "  H15    REGION MAS_500 AGLOMERADO  PONDERA  ... RDECCFR GDECCFR PDECCFR  \\\n",
      "0   1  Pampeana       N         30      159  ...       7     NaN     8.0   \n",
      "1   1  Pampeana       N         30      159  ...       7     NaN     8.0   \n",
      "2   1  Pampeana       N         36      138  ...       3     NaN     4.0   \n",
      "3   1  Pampeana       N         36      138  ...       3     NaN     4.0   \n",
      "4   1  Pampeana       N         36      149  ...      10     NaN    10.0   \n",
      "\n",
      "  ADECCFR PONDIH PJ1_1 PJ2_1 PJ3_1 IDIMPP PEA  \n",
      "0       6  231.0   NaN   NaN   NaN    NaN   0  \n",
      "1       6  231.0   NaN   NaN   NaN    NaN   0  \n",
      "2       3  144.0   NaN   NaN   NaN    NaN   0  \n",
      "3       3  144.0   NaN   NaN   NaN    NaN   0  \n",
      "4      10  194.0   NaN   NaN   NaN    NaN   0  \n",
      "\n",
      "[5 rows x 182 columns]\n"
     ]
    }
   ],
   "source": [
    "# Verificar los datos en la base respondieron\n",
    "print(\"Datos en la base respondieron:\\n\", respondieron.head())"
   ]
  },
  {
   "cell_type": "code",
   "execution_count": 47,
   "id": "7623974d-11e5-427a-a0c4-0e3a1a207bad",
   "metadata": {},
   "outputs": [],
   "source": [
    "# Filtrar las observaciones por los años 2004 y 2024\n",
    "respondieron_filtered = respondieron[respondieron['ANO4'].isin([2004, 2024])]\n"
   ]
  },
  {
   "cell_type": "code",
   "execution_count": 49,
   "id": "140f2d9d-2640-4635-88d7-4a075b77e392",
   "metadata": {},
   "outputs": [],
   "source": [
    "# Agrupar los datos por año y PEA\n",
    "pea_grouped = respondieron_filtered.groupby(['ANO4', 'PEA']).size().unstack().fillna(0)\n"
   ]
  },
  {
   "cell_type": "code",
   "execution_count": 53,
   "id": "cb4ae5d1-4d92-452f-9566-2763b77f50ec",
   "metadata": {},
   "outputs": [
    {
     "data": {
      "image/png": "[encoded data removed]",
      "text/plain": [
       "<Figure size 640x480 with 1 Axes>"
      ]
     },
     "metadata": {},
     "output_type": "display_data"
    }
   ],
   "source": [
    "\n",
    "\n",
    "# Sumar las personas en la PEA para cada año\n",
    "pea_totals = pea_grouped.sum(axis=1)\n",
    "\n",
    "# Crear el gráfico de barras para PEA\n",
    "fig, ax = plt.subplots()\n",
    "\n",
    "# Configurar las posiciones de las barras\n",
    "bar_positions = [0, 1]  # Posiciones de las barras para 2004 y 2024\n",
    "\n",
    "# Graficar las barras\n",
    "ax.bar(bar_positions, pea_totals, width=0.5, color=['rosybrown', 'khaki'])\n",
    "\n",
    "# Personalizar el gráfico\n",
    "ax.set_title('Composición por PEA para 2004 y 2024')\n",
    "ax.set_xlabel('Año')\n",
    "ax.set_ylabel('Cantidad de personas en PEA')\n",
    "ax.set_xticks(bar_positions)\n",
    "ax.set_xticklabels(['2004', '2024'])\n",
    "\n",
    "# Mostrar el gráfico en Jupyter Notebook\n",
    "plt.show()\n",
    "\n",
    "# Guardar el gráfico como imagen\n",
    "fig.savefig('composicion_pea_2004_2024.png')\n"
   ]
  },
  {
   "cell_type": "code",
   "execution_count": 66,
   "id": "61ad397b-08c4-48c3-8229-403abc1c82e8",
   "metadata": {
    "scrolled": true
   },
   "outputs": [
    {
     "ename": "TypeError",
     "evalue": "'<=' not supported between instances of 'int' and 'str'",
     "output_type": "error",
     "traceback": [
      "\u001b[1;31m---------------------------------------------------------------------------\u001b[0m",
      "\u001b[1;31mTypeError\u001b[0m                                 Traceback (most recent call last)",
      "Cell \u001b[1;32mIn[66], line 3\u001b[0m\n\u001b[0;32m      1\u001b[0m \u001b[38;5;66;03m#8 # Agregar la columna \"PET\"\u001b[39;00m\n\u001b[0;32m      2\u001b[0m \u001b[38;5;66;03m# Consideramos PET (Población en Edad para Trabajar) a aquellos con edad entre 15 y 65 años\u001b[39;00m\n\u001b[1;32m----> 3\u001b[0m respondieron[\u001b[38;5;124m'\u001b[39m\u001b[38;5;124mPET\u001b[39m\u001b[38;5;124m'\u001b[39m] \u001b[38;5;241m=\u001b[39m respondieron[\u001b[38;5;124m'\u001b[39m\u001b[38;5;124mCH06\u001b[39m\u001b[38;5;124m'\u001b[39m]\u001b[38;5;241m.\u001b[39mapply(\u001b[38;5;28;01mlambda\u001b[39;00m x: \u001b[38;5;241m1\u001b[39m \u001b[38;5;28;01mif\u001b[39;00m \u001b[38;5;241m15\u001b[39m \u001b[38;5;241m<\u001b[39m\u001b[38;5;241m=\u001b[39m x \u001b[38;5;241m<\u001b[39m\u001b[38;5;241m=\u001b[39m \u001b[38;5;241m65\u001b[39m \u001b[38;5;28;01melse\u001b[39;00m \u001b[38;5;241m0\u001b[39m)\n",
      "File \u001b[1;32m~\\anaconda3\\Lib\\site-packages\\pandas\\core\\series.py:4924\u001b[0m, in \u001b[0;36mSeries.apply\u001b[1;34m(self, func, convert_dtype, args, by_row, **kwargs)\u001b[0m\n\u001b[0;32m   4789\u001b[0m \u001b[38;5;28;01mdef\u001b[39;00m \u001b[38;5;21mapply\u001b[39m(\n\u001b[0;32m   4790\u001b[0m     \u001b[38;5;28mself\u001b[39m,\n\u001b[0;32m   4791\u001b[0m     func: AggFuncType,\n\u001b[1;32m   (...)\u001b[0m\n\u001b[0;32m   4796\u001b[0m     \u001b[38;5;241m*\u001b[39m\u001b[38;5;241m*\u001b[39mkwargs,\n\u001b[0;32m   4797\u001b[0m ) \u001b[38;5;241m-\u001b[39m\u001b[38;5;241m>\u001b[39m DataFrame \u001b[38;5;241m|\u001b[39m Series:\n\u001b[0;32m   4798\u001b[0m \u001b[38;5;250m    \u001b[39m\u001b[38;5;124;03m\"\"\"\u001b[39;00m\n\u001b[0;32m   4799\u001b[0m \u001b[38;5;124;03m    Invoke function on values of Series.\u001b[39;00m\n\u001b[0;32m   4800\u001b[0m \n\u001b[1;32m   (...)\u001b[0m\n\u001b[0;32m   4915\u001b[0m \u001b[38;5;124;03m    dtype: float64\u001b[39;00m\n\u001b[0;32m   4916\u001b[0m \u001b[38;5;124;03m    \"\"\"\u001b[39;00m\n\u001b[0;32m   4917\u001b[0m     \u001b[38;5;28;01mreturn\u001b[39;00m SeriesApply(\n\u001b[0;32m   4918\u001b[0m         \u001b[38;5;28mself\u001b[39m,\n\u001b[0;32m   4919\u001b[0m         func,\n\u001b[0;32m   4920\u001b[0m         convert_dtype\u001b[38;5;241m=\u001b[39mconvert_dtype,\n\u001b[0;32m   4921\u001b[0m         by_row\u001b[38;5;241m=\u001b[39mby_row,\n\u001b[0;32m   4922\u001b[0m         args\u001b[38;5;241m=\u001b[39margs,\n\u001b[0;32m   4923\u001b[0m         kwargs\u001b[38;5;241m=\u001b[39mkwargs,\n\u001b[1;32m-> 4924\u001b[0m     )\u001b[38;5;241m.\u001b[39mapply()\n",
      "File \u001b[1;32m~\\anaconda3\\Lib\\site-packages\\pandas\\core\\apply.py:1427\u001b[0m, in \u001b[0;36mSeriesApply.apply\u001b[1;34m(self)\u001b[0m\n\u001b[0;32m   1424\u001b[0m     \u001b[38;5;28;01mreturn\u001b[39;00m \u001b[38;5;28mself\u001b[39m\u001b[38;5;241m.\u001b[39mapply_compat()\n\u001b[0;32m   1426\u001b[0m \u001b[38;5;66;03m# self.func is Callable\u001b[39;00m\n\u001b[1;32m-> 1427\u001b[0m \u001b[38;5;28;01mreturn\u001b[39;00m \u001b[38;5;28mself\u001b[39m\u001b[38;5;241m.\u001b[39mapply_standard()\n",
      "File \u001b[1;32m~\\anaconda3\\Lib\\site-packages\\pandas\\core\\apply.py:1507\u001b[0m, in \u001b[0;36mSeriesApply.apply_standard\u001b[1;34m(self)\u001b[0m\n\u001b[0;32m   1501\u001b[0m \u001b[38;5;66;03m# row-wise access\u001b[39;00m\n\u001b[0;32m   1502\u001b[0m \u001b[38;5;66;03m# apply doesn't have a `na_action` keyword and for backward compat reasons\u001b[39;00m\n\u001b[0;32m   1503\u001b[0m \u001b[38;5;66;03m# we need to give `na_action=\"ignore\"` for categorical data.\u001b[39;00m\n\u001b[0;32m   1504\u001b[0m \u001b[38;5;66;03m# TODO: remove the `na_action=\"ignore\"` when that default has been changed in\u001b[39;00m\n\u001b[0;32m   1505\u001b[0m \u001b[38;5;66;03m#  Categorical (GH51645).\u001b[39;00m\n\u001b[0;32m   1506\u001b[0m action \u001b[38;5;241m=\u001b[39m \u001b[38;5;124m\"\u001b[39m\u001b[38;5;124mignore\u001b[39m\u001b[38;5;124m\"\u001b[39m \u001b[38;5;28;01mif\u001b[39;00m \u001b[38;5;28misinstance\u001b[39m(obj\u001b[38;5;241m.\u001b[39mdtype, CategoricalDtype) \u001b[38;5;28;01melse\u001b[39;00m \u001b[38;5;28;01mNone\u001b[39;00m\n\u001b[1;32m-> 1507\u001b[0m mapped \u001b[38;5;241m=\u001b[39m obj\u001b[38;5;241m.\u001b[39m_map_values(\n\u001b[0;32m   1508\u001b[0m     mapper\u001b[38;5;241m=\u001b[39mcurried, na_action\u001b[38;5;241m=\u001b[39maction, convert\u001b[38;5;241m=\u001b[39m\u001b[38;5;28mself\u001b[39m\u001b[38;5;241m.\u001b[39mconvert_dtype\n\u001b[0;32m   1509\u001b[0m )\n\u001b[0;32m   1511\u001b[0m \u001b[38;5;28;01mif\u001b[39;00m \u001b[38;5;28mlen\u001b[39m(mapped) \u001b[38;5;129;01mand\u001b[39;00m \u001b[38;5;28misinstance\u001b[39m(mapped[\u001b[38;5;241m0\u001b[39m], ABCSeries):\n\u001b[0;32m   1512\u001b[0m     \u001b[38;5;66;03m# GH#43986 Need to do list(mapped) in order to get treated as nested\u001b[39;00m\n\u001b[0;32m   1513\u001b[0m     \u001b[38;5;66;03m#  See also GH#25959 regarding EA support\u001b[39;00m\n\u001b[0;32m   1514\u001b[0m     \u001b[38;5;28;01mreturn\u001b[39;00m obj\u001b[38;5;241m.\u001b[39m_constructor_expanddim(\u001b[38;5;28mlist\u001b[39m(mapped), index\u001b[38;5;241m=\u001b[39mobj\u001b[38;5;241m.\u001b[39mindex)\n",
      "File \u001b[1;32m~\\anaconda3\\Lib\\site-packages\\pandas\\core\\base.py:921\u001b[0m, in \u001b[0;36mIndexOpsMixin._map_values\u001b[1;34m(self, mapper, na_action, convert)\u001b[0m\n\u001b[0;32m    918\u001b[0m \u001b[38;5;28;01mif\u001b[39;00m \u001b[38;5;28misinstance\u001b[39m(arr, ExtensionArray):\n\u001b[0;32m    919\u001b[0m     \u001b[38;5;28;01mreturn\u001b[39;00m arr\u001b[38;5;241m.\u001b[39mmap(mapper, na_action\u001b[38;5;241m=\u001b[39mna_action)\n\u001b[1;32m--> 921\u001b[0m \u001b[38;5;28;01mreturn\u001b[39;00m algorithms\u001b[38;5;241m.\u001b[39mmap_array(arr, mapper, na_action\u001b[38;5;241m=\u001b[39mna_action, convert\u001b[38;5;241m=\u001b[39mconvert)\n",
      "File \u001b[1;32m~\\anaconda3\\Lib\\site-packages\\pandas\\core\\algorithms.py:1743\u001b[0m, in \u001b[0;36mmap_array\u001b[1;34m(arr, mapper, na_action, convert)\u001b[0m\n\u001b[0;32m   1741\u001b[0m values \u001b[38;5;241m=\u001b[39m arr\u001b[38;5;241m.\u001b[39mastype(\u001b[38;5;28mobject\u001b[39m, copy\u001b[38;5;241m=\u001b[39m\u001b[38;5;28;01mFalse\u001b[39;00m)\n\u001b[0;32m   1742\u001b[0m \u001b[38;5;28;01mif\u001b[39;00m na_action \u001b[38;5;129;01mis\u001b[39;00m \u001b[38;5;28;01mNone\u001b[39;00m:\n\u001b[1;32m-> 1743\u001b[0m     \u001b[38;5;28;01mreturn\u001b[39;00m lib\u001b[38;5;241m.\u001b[39mmap_infer(values, mapper, convert\u001b[38;5;241m=\u001b[39mconvert)\n\u001b[0;32m   1744\u001b[0m \u001b[38;5;28;01melse\u001b[39;00m:\n\u001b[0;32m   1745\u001b[0m     \u001b[38;5;28;01mreturn\u001b[39;00m lib\u001b[38;5;241m.\u001b[39mmap_infer_mask(\n\u001b[0;32m   1746\u001b[0m         values, mapper, mask\u001b[38;5;241m=\u001b[39misna(values)\u001b[38;5;241m.\u001b[39mview(np\u001b[38;5;241m.\u001b[39muint8), convert\u001b[38;5;241m=\u001b[39mconvert\n\u001b[0;32m   1747\u001b[0m     )\n",
      "File \u001b[1;32mlib.pyx:2972\u001b[0m, in \u001b[0;36mpandas._libs.lib.map_infer\u001b[1;34m()\u001b[0m\n",
      "Cell \u001b[1;32mIn[66], line 3\u001b[0m, in \u001b[0;36m<lambda>\u001b[1;34m(x)\u001b[0m\n\u001b[0;32m      1\u001b[0m \u001b[38;5;66;03m#8 # Agregar la columna \"PET\"\u001b[39;00m\n\u001b[0;32m      2\u001b[0m \u001b[38;5;66;03m# Consideramos PET (Población en Edad para Trabajar) a aquellos con edad entre 15 y 65 años\u001b[39;00m\n\u001b[1;32m----> 3\u001b[0m respondieron[\u001b[38;5;124m'\u001b[39m\u001b[38;5;124mPET\u001b[39m\u001b[38;5;124m'\u001b[39m] \u001b[38;5;241m=\u001b[39m respondieron[\u001b[38;5;124m'\u001b[39m\u001b[38;5;124mCH06\u001b[39m\u001b[38;5;124m'\u001b[39m]\u001b[38;5;241m.\u001b[39mapply(\u001b[38;5;28;01mlambda\u001b[39;00m x: \u001b[38;5;241m1\u001b[39m \u001b[38;5;28;01mif\u001b[39;00m \u001b[38;5;241m15\u001b[39m \u001b[38;5;241m<\u001b[39m\u001b[38;5;241m=\u001b[39m x \u001b[38;5;241m<\u001b[39m\u001b[38;5;241m=\u001b[39m \u001b[38;5;241m65\u001b[39m \u001b[38;5;28;01melse\u001b[39;00m \u001b[38;5;241m0\u001b[39m)\n",
      "\u001b[1;31mTypeError\u001b[0m: '<=' not supported between instances of 'int' and 'str'"
     ]
    }
   ],
   "source": [
    "#8 # Agregar la columna \"PET\"\n",
    "# Consideramos PET (Población en Edad para Trabajar) a aquellos con edad entre 15 y 65 años\n",
    "respondieron['PET'] = respondieron['CH06'].apply(lambda x: 1 if 15 <= x <= 65 else 0)"
   ]
  },
  {
   "cell_type": "code",
   "execution_count": null,
   "id": "06e9a231-02fe-47fd-a09e-460ec9508542",
   "metadata": {},
   "outputs": [],
   "source": [
    "# Agrupar los datos por año y PET\n",
    "pet_grouped = respondieron_filtered.groupby(['ANO4', 'PET']).size().unstack().fillna(0)\n",
    "\n",
    "# Crear el gráfico de barras para PET\n",
    "fig, ax = plt.subplots()\n",
    "\n",
    "# Configurar las posiciones de las barras\n",
    "bar_width = 0.35\n",
    "bar_positions_2004 = [0, 1]\n",
    "bar_positions_2024 = [2, 3]\n",
    "\n",
    "# Graficar las barras\n",
    "ax.bar(bar_positions_2004, pet_grouped.loc[2004], width=bar_width, label='2004', color='blue')\n",
    "ax.bar(bar_positions_2024, pet_grouped.loc[2024], width=bar_width, label='2024', color='orange')\n",
    "\n",
    "# Personalizar el gráfico\n",
    "ax.set_title('Composición por PET para 2004 y 2024')\n",
    "ax.set_xlabel('Años y PET')\n",
    "ax.set_ylabel('Cantidad')\n",
    "ax.set_xticks([0.5, 2.5])\n",
    "ax.set_xticklabels(['2004', '2024'])\n",
    "ax.legend(title='Año')\n",
    "\n",
    "# Mostrar el gráfico en Jupyter Notebook\n",
    "plt.show()"
   ]
  },
  {
   "cell_type": "code",
   "execution_count": null,
   "id": "5713af23-caeb-48d3-8333-81a15917631e",
   "metadata": {},
   "outputs": [],
   "source": []
  },
  {
   "cell_type": "code",
   "execution_count": 55,
   "id": "3faee8bb-e46a-4cd6-a22b-f1d029b81b32",
   "metadata": {},
   "outputs": [],
   "source": [
    "#Punto 9 (asumo que ya tiene gian cargada la base)\n",
    "\n",
    "\n",
    "\n",
    "#A\n",
    "import seaborn as sns\n",
    "import matplotlib.pyplot as plt"
   ]
  },
  {
   "cell_type": "code",
   "execution_count": 59,
   "id": "807e3cc6-3473-4c39-8ee8-942868daafc4",
   "metadata": {},
   "outputs": [
    {
     "ename": "KeyError",
     "evalue": "'Column not found: Desocupado'",
     "output_type": "error",
     "traceback": [
      "\u001b[1;31m---------------------------------------------------------------------------\u001b[0m",
      "\u001b[1;31mKeyError\u001b[0m                                  Traceback (most recent call last)",
      "Cell \u001b[1;32mIn[59], line 2\u001b[0m\n\u001b[0;32m      1\u001b[0m \u001b[38;5;66;03m# Agrupar por año y nivel educativo para calcular la proporción de desocupados\u001b[39;00m\n\u001b[1;32m----> 2\u001b[0m desocupados_educacion \u001b[38;5;241m=\u001b[39m respondieron\u001b[38;5;241m.\u001b[39mgroupby([\u001b[38;5;124m\"\u001b[39m\u001b[38;5;124mANO4\u001b[39m\u001b[38;5;124m\"\u001b[39m, \u001b[38;5;124m\"\u001b[39m\u001b[38;5;124mNIVEL_ED\u001b[39m\u001b[38;5;124m\"\u001b[39m])[\u001b[38;5;124m\"\u001b[39m\u001b[38;5;124mDesocupado\u001b[39m\u001b[38;5;124m\"\u001b[39m]\u001b[38;5;241m.\u001b[39mmean()\u001b[38;5;241m.\u001b[39mreset_index()\n",
      "File \u001b[1;32m~\\anaconda3\\Lib\\site-packages\\pandas\\core\\groupby\\generic.py:1951\u001b[0m, in \u001b[0;36mDataFrameGroupBy.__getitem__\u001b[1;34m(self, key)\u001b[0m\n\u001b[0;32m   1944\u001b[0m \u001b[38;5;28;01mif\u001b[39;00m \u001b[38;5;28misinstance\u001b[39m(key, \u001b[38;5;28mtuple\u001b[39m) \u001b[38;5;129;01mand\u001b[39;00m \u001b[38;5;28mlen\u001b[39m(key) \u001b[38;5;241m>\u001b[39m \u001b[38;5;241m1\u001b[39m:\n\u001b[0;32m   1945\u001b[0m     \u001b[38;5;66;03m# if len == 1, then it becomes a SeriesGroupBy and this is actually\u001b[39;00m\n\u001b[0;32m   1946\u001b[0m     \u001b[38;5;66;03m# valid syntax, so don't raise\u001b[39;00m\n\u001b[0;32m   1947\u001b[0m     \u001b[38;5;28;01mraise\u001b[39;00m \u001b[38;5;167;01mValueError\u001b[39;00m(\n\u001b[0;32m   1948\u001b[0m         \u001b[38;5;124m\"\u001b[39m\u001b[38;5;124mCannot subset columns with a tuple with more than one element. \u001b[39m\u001b[38;5;124m\"\u001b[39m\n\u001b[0;32m   1949\u001b[0m         \u001b[38;5;124m\"\u001b[39m\u001b[38;5;124mUse a list instead.\u001b[39m\u001b[38;5;124m\"\u001b[39m\n\u001b[0;32m   1950\u001b[0m     )\n\u001b[1;32m-> 1951\u001b[0m \u001b[38;5;28;01mreturn\u001b[39;00m \u001b[38;5;28msuper\u001b[39m()\u001b[38;5;241m.\u001b[39m\u001b[38;5;21m__getitem__\u001b[39m(key)\n",
      "File \u001b[1;32m~\\anaconda3\\Lib\\site-packages\\pandas\\core\\base.py:244\u001b[0m, in \u001b[0;36mSelectionMixin.__getitem__\u001b[1;34m(self, key)\u001b[0m\n\u001b[0;32m    242\u001b[0m \u001b[38;5;28;01melse\u001b[39;00m:\n\u001b[0;32m    243\u001b[0m     \u001b[38;5;28;01mif\u001b[39;00m key \u001b[38;5;129;01mnot\u001b[39;00m \u001b[38;5;129;01min\u001b[39;00m \u001b[38;5;28mself\u001b[39m\u001b[38;5;241m.\u001b[39mobj:\n\u001b[1;32m--> 244\u001b[0m         \u001b[38;5;28;01mraise\u001b[39;00m \u001b[38;5;167;01mKeyError\u001b[39;00m(\u001b[38;5;124mf\u001b[39m\u001b[38;5;124m\"\u001b[39m\u001b[38;5;124mColumn not found: \u001b[39m\u001b[38;5;132;01m{\u001b[39;00mkey\u001b[38;5;132;01m}\u001b[39;00m\u001b[38;5;124m\"\u001b[39m)\n\u001b[0;32m    245\u001b[0m     ndim \u001b[38;5;241m=\u001b[39m \u001b[38;5;28mself\u001b[39m\u001b[38;5;241m.\u001b[39mobj[key]\u001b[38;5;241m.\u001b[39mndim\n\u001b[0;32m    246\u001b[0m     \u001b[38;5;28;01mreturn\u001b[39;00m \u001b[38;5;28mself\u001b[39m\u001b[38;5;241m.\u001b[39m_gotitem(key, ndim\u001b[38;5;241m=\u001b[39mndim)\n",
      "\u001b[1;31mKeyError\u001b[0m: 'Column not found: Desocupado'"
     ]
    }
   ],
   "source": [
    "# Agrupar por año y nivel educativo para calcular la proporción de desocupados\n",
    "desocupados_educacion = respondieron.groupby([\"ANO4\", \"NIVEL_ED\"])[\"Desocupado\"].mean().reset_index()"
   ]
  },
  {
   "cell_type": "code",
   "execution_count": null,
   "id": "3b4c07d3-a70d-438c-bc1c-1dbe8b0a09d0",
   "metadata": {},
   "outputs": [],
   "source": [
    "# Graficar comparación\n",
    "plt.figure(figsize=(10, 6))\n",
    "sns.barplot(data=desocupados_educacion, x=\"NIVEL_ED\", y=\"desocupado\", hue=\"ANO4\", palette=\"viridis\")\n",
    "\n",
    "plt.xlabel(\"Nivel Educativo\")\n",
    "plt.ylabel(\"Proporción de Desocupados\")\n",
    "plt.title(\"Desocupación por Nivel Educativo en 2004 vs 2024\")\n",
    "plt.legend(title=\"Año\")\n",
    "\n",
    "plt.xticks(rotation=45)  # Rotar etiquetas para mejor visualización\n",
    "plt.show()"
   ]
  },
  {
   "cell_type": "code",
   "execution_count": null,
   "id": "3910c38b-6898-425e-a8f5-e2f9fd5a4aa3",
   "metadata": {},
   "outputs": [],
   "source": []
  },
  {
   "cell_type": "code",
   "execution_count": null,
   "id": "ca6885f9-ea8a-4828-ab81-7dedba10245b",
   "metadata": {},
   "outputs": [],
   "source": [
    "#b\n",
    "# Crear categorías de edad en grupos de 10 años\n",
    "bins = [0, 10, 20, 30, 40, 50, 60, 70, 100]  # Definir los rangos de edad\n",
    "labels = [\"0-9\", \"10-19\", \"20-29\", \"30-39\", \"40-49\", \"50-59\", \"60-69\", \"70+\"]\n",
    "respondieron[\"edad_grupo\"] = pd.cut(respondieron[\"CH06\"], bins=bins, labels=labels, right=False)"
   ]
  },
  {
   "cell_type": "code",
   "execution_count": null,
   "id": "98d437f5-78a5-4419-b36b-2b41fb3e3ef1",
   "metadata": {},
   "outputs": [],
   "source": [
    "# Calcular proporción de desocupados por edad agrupada\n",
    "desocupados_edad = respondieron.groupby([\"ANO4\", \"edad_grupo\"])[\"desocupado\"].mean().reset_index()"
   ]
  },
  {
   "cell_type": "code",
   "execution_count": null,
   "id": "2c11f7b4-bd4e-4a0c-a8af-9eeb2692f274",
   "metadata": {},
   "outputs": [],
   "source": [
    "# Graficar comparación\n",
    "plt.figure(figsize=(10, 6))\n",
    "sns.barplot(data=desocupados_edad, x=\"edad_grupo\", y=\"desocupado\", hue=\"ANO4\", palette=\"magma\")\n",
    "\n",
    "plt.xlabel(\"Grupo de Edad\")\n",
    "plt.ylabel(\"Proporción de Desocupados\")\n",
    "plt.title(\"Desocupación por Grupo de Edad en 2004 vs 2024\")\n",
    "plt.legend(title=\"Año\")\n",
    "\n",
    "plt.show()"
   ]
  },
  {
   "cell_type": "code",
   "execution_count": null,
   "id": "62c94b8f-2da3-4e7a-a4d9-822d2b8566f3",
   "metadata": {},
   "outputs": [],
   "source": [
    "#c\n",
    "# Calcular proporción de desocupados por sexo\n",
    "desocupados_sexo = respondieron.groupby([\"ANO4\", \"CH04\"])[\"desocupado\"].mean().reset_index()\n",
    "\n",
    "# Graficar comparación\n",
    "plt.figure(figsize=(8, 5))\n",
    "sns.barplot(data=desocupados_sexo, x=\"CH04\", y=\"desocupado\", hue=\"ANO4\", palette=\"coolwarm\")\n",
    "\n",
    "plt.xlabel(\"Sexo\")\n",
    "plt.ylabel(\"Proporción de Desocupados\")\n",
    "plt.title(\"Desocupación por Sexo en 2004 vs 2024\")\n",
    "plt.legend(title=\"Año\")\n",
    "\n",
    "plt.show()"
   ]
  },
  {
   "cell_type": "code",
   "execution_count": null,
   "id": "79cf57b8-629c-43a1-93d2-4360694c2e38",
   "metadata": {},
   "outputs": [],
   "source": []
  }
 ],
 "metadata": {
  "kernelspec": {
   "display_name": "Python [conda env:base] *",
   "language": "python",
   "name": "conda-base-py"
  },
  "language_info": {
   "codemirror_mode": {
    "name": "ipython",
    "version": 3
   },
   "file_extension": ".py",
   "mimetype": "text/x-python",
   "name": "python",
   "nbconvert_exporter": "python",
   "pygments_lexer": "ipython3",
   "version": "3.12.7"
  }
 },
 "nbformat": 4,
 "nbformat_minor": 5
}
