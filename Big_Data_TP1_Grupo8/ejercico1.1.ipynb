{
 "cells": [
  {
   "cell_type": "code",
   "execution_count": 81,
   "id": "d41ff62f-cc68-42ab-bb19-32e699ba86c2",
   "metadata": {
    "scrolled": true
   },
   "outputs": [
    {
     "name": "stdout",
     "output_type": "stream",
     "text": [
      "                              CODUSU  ANO4  TRIMESTRE  NRO_HOGAR  COMPONENTE  \\\n",
      "0      TQRMNOPUTHLMKQCDEGGFB00852588  2024          1          1           3   \n",
      "1      TQRMNOPUTHLMKQCDEGGFB00852588  2024          1          1           4   \n",
      "2      TQRMNOPUTHLMKQCDEGGFB00852588  2024          1          1           5   \n",
      "3      TQRMNOPPWHLLKRCDEGGFB00852574  2024          1          1           1   \n",
      "4      TQRMNOPPWHLLKRCDEGGFB00852574  2024          1          1           2   \n",
      "...                              ...   ...        ...        ...         ...   \n",
      "46045  TQRMNOPUQHKMKNCDEIJAH00861661  2024          1          1           1   \n",
      "46046  TQRMNOPUQHKMKNCDEIJAH00861661  2024          1          1           2   \n",
      "46047  TQRMNOPUQHKMKNCDEIJAH00861661  2024          1          1           3   \n",
      "46048  TQRMNOPUQHKMKNCDEIJAH00861661  2024          1          1           4   \n",
      "46049  TQRMNOPUQHKMKNCDEIJAH00861661  2024          1          1           5   \n",
      "\n",
      "       H15  REGION MAS_500  AGLOMERADO  PONDERA  ...  PDECIFR  ADECIFR  \\\n",
      "0        1      42       S          10      439  ...      NaN       12   \n",
      "1        1      42       S          10      439  ...      NaN       12   \n",
      "2        0      42       S          10      439  ...      NaN       12   \n",
      "3        1      42       S          10      675  ...      NaN        8   \n",
      "4        1      42       S          10      675  ...      NaN        8   \n",
      "...    ...     ...     ...         ...      ...  ...      ...      ...   \n",
      "46045    1       1       S          33     3410  ...      NaN       12   \n",
      "46046    2       1       S          33     3410  ...      NaN       12   \n",
      "46047    2       1       S          33     3410  ...      NaN       12   \n",
      "46048    2       1       S          33     3410  ...      NaN       12   \n",
      "46049    2       1       S          33     3410  ...      NaN       12   \n",
      "\n",
      "           IPCF  DECCFR  IDECCFR  RDECCFR  GDECCFR  PDECCFR  ADECCFR  PONDIH  \n",
      "0           0.0      12     12.0       12     12.0      NaN       12       0  \n",
      "1           0.0      12     12.0       12     12.0      NaN       12       0  \n",
      "2           0.0      12     12.0       12     12.0      NaN       12       0  \n",
      "3      212500.0       6      6.0        6      6.0      NaN        6    1610  \n",
      "4      212500.0       6      6.0        6      6.0      NaN        6    1610  \n",
      "...         ...     ...      ...      ...      ...      ...      ...     ...  \n",
      "46045       0.0      12      NaN       12     12.0      NaN       12       0  \n",
      "46046       0.0      12      NaN       12     12.0      NaN       12       0  \n",
      "46047       0.0      12      NaN       12     12.0      NaN       12       0  \n",
      "46048       0.0      12      NaN       12     12.0      NaN       12       0  \n",
      "46049       0.0      12      NaN       12     12.0      NaN       12       0  \n",
      "\n",
      "[46050 rows x 177 columns]\n"
     ]
    }
   ],
   "source": [
    "# 2a\n",
    "import pandas as pd\n",
    "import os\n",
    "os.getcwd() # Ver donde estamos ubicados\n",
    "os.chdir(\"/Users/francodeangelis/Documents/Udesa/cuarto /Big data /BigDataUdeSA/ejercico 1/EPH_usu_1er_Trim_2024_xlsx\") # Ubicarnos en la carpeta con todos los archivos de esta tutorial\n",
    "\n",
    "df24 = pd.read_excel(\"usu_individual_T124.xlsx\")\n",
    "print(df24)\n"
   ]
  },
  {
   "cell_type": "code",
   "execution_count": 82,
   "id": "ee3d2fa0-c02c-4547-890b-d3998b69a0ce",
   "metadata": {},
   "outputs": [
    {
     "name": "stdout",
     "output_type": "stream",
     "text": [
      "                              CODUSU  ANO4  TRIMESTRE  NRO_HOGAR  COMPONENTE  \\\n",
      "67     TQRMNOSYUHKNKMCDEIGED00856897  2024          1          1           1   \n",
      "68     TQRMNOSYUHKNKMCDEIGED00856897  2024          1          1           2   \n",
      "115    TQRMNORTVHLOKQCDEIMBF00855868  2024          1          1           1   \n",
      "116    TQRMNORTVHLOKQCDEIMBF00855868  2024          1          1           2   \n",
      "117    TQRMNORSXHMLLOCDEIMBF00802814  2024          1          1           1   \n",
      "...                              ...   ...        ...        ...         ...   \n",
      "45794  TQRMNORTQHMLLOCDEIMBF00802806  2024          1          1           4   \n",
      "45795  TQRMNOQSQHKMLNCDEIMBF00861587  2024          1          1           1   \n",
      "45796  TQRMNOPSVHKMLOCDEIMBF00861588  2024          1          1           1   \n",
      "45797  TQRMNOPSVHKMLOCDEIMBF00861588  2024          1          1           2   \n",
      "45798  TQRMNOPSVHKMLOCDEIMBF00861588  2024          1          1           3   \n",
      "\n",
      "       H15  REGION MAS_500  AGLOMERADO  PONDERA  ...  PDECIFR  ADECIFR  \\\n",
      "67       1      43       N          30      159  ...      8.0        7   \n",
      "68       1      43       N          30      159  ...      8.0        7   \n",
      "115      1      43       N          36      138  ...      3.0        3   \n",
      "116      1      43       N          36      138  ...      3.0        3   \n",
      "117      1      43       N          36      149  ...     10.0       10   \n",
      "...    ...     ...     ...         ...      ...  ...      ...      ...   \n",
      "45794    0      43       N          36      180  ...     10.0       10   \n",
      "45795    1      43       N          36      184  ...      7.0        7   \n",
      "45796    1      43       N          36      217  ...      5.0        5   \n",
      "45797    1      43       N          36      217  ...      5.0        5   \n",
      "45798    0      43       N          36      217  ...      5.0        5   \n",
      "\n",
      "            IPCF  DECCFR  IDECCFR  RDECCFR  GDECCFR  PDECCFR  ADECCFR  PONDIH  \n",
      "67     266666.67       7      7.0        7      NaN      8.0        6     231  \n",
      "68     266666.67       7      7.0        7      NaN      8.0        6     231  \n",
      "115    125000.00       3      3.0        3      NaN      4.0        3     144  \n",
      "116    125000.00       3      3.0        3      NaN      4.0        3     144  \n",
      "117    685000.00      10     10.0       10      NaN     10.0       10     194  \n",
      "...          ...     ...      ...      ...      ...      ...      ...     ...  \n",
      "45794  487500.00       9      9.0        9      NaN      9.0        9     240  \n",
      "45795  600000.00      10     10.0       10      NaN     10.0       10     210  \n",
      "45796  136666.67       4      4.0        3      NaN      4.0        3     279  \n",
      "45797  136666.67       4      4.0        3      NaN      4.0        3     279  \n",
      "45798  136666.67       4      4.0        3      NaN      4.0        3     279  \n",
      "\n",
      "[4136 rows x 177 columns]\n"
     ]
    }
   ],
   "source": [
    "# Filtro los datos\n",
    "df24=df24[df24[ \"REGION\" ]== 43]\n",
    "df24=df24[(df24[ \"AGLOMERADO\" ]==36)|(df24[ \"AGLOMERADO\" ]==13)|(df24[ \"AGLOMERADO\" ]==30)]\n",
    "print(df24)"
   ]
  },
  {
   "cell_type": "code",
   "execution_count": 83,
   "id": "b78af925-1a61-4ccf-984c-d721cb834567",
   "metadata": {},
   "outputs": [
    {
     "name": "stdout",
     "output_type": "stream",
     "text": [
      "         CODUSU  nro_hogar componente  h15    ano4       trimestre  \\\n",
      "0      125098          1.0        1.0   Sí  2004.0  1er. Trimestre   \n",
      "1      125397          1.0        1.0   Sí  2004.0  1er. Trimestre   \n",
      "2      125515          1.0        1.0   Sí  2004.0  1er. Trimestre   \n",
      "3      125558          1.0        1.0   Sí  2004.0  1er. Trimestre   \n",
      "4      125558          1.0        2.0   Sí  2004.0  1er. Trimestre   \n",
      "...         ...        ...        ...  ...     ...             ...   \n",
      "45284  285733          1.0        1.0   Sí  2004.0  1er. Trimestre   \n",
      "45285  285733          1.0        2.0   Sí  2004.0  1er. Trimestre   \n",
      "45286  285733          1.0        3.0   Sí  2004.0  1er. Trimestre   \n",
      "45287  285733          1.0        4.0  0.0  2004.0  1er. Trimestre   \n",
      "45288  285733          1.0        5.0  0.0  2004.0  1er. Trimestre   \n",
      "\n",
      "                  region mas_500              aglomerado  pondera  ... deccfr  \\\n",
      "0      Gran Buenos Aires       S  Ciudad de Buenos Aires   1299.0  ...     07   \n",
      "1      Gran Buenos Aires       S  Ciudad de Buenos Aires   2018.0  ...     00   \n",
      "2      Gran Buenos Aires       S  Ciudad de Buenos Aires   1486.0  ...     07   \n",
      "3      Gran Buenos Aires       S  Ciudad de Buenos Aires   1674.0  ...     08   \n",
      "4      Gran Buenos Aires       S  Ciudad de Buenos Aires   1674.0  ...     08   \n",
      "...                  ...     ...                     ...      ...  ...    ...   \n",
      "45284         Patagónica       N    Ushuaia - Río Grande    123.0  ...     09   \n",
      "45285         Patagónica       N    Ushuaia - Río Grande    123.0  ...     09   \n",
      "45286         Patagónica       N    Ushuaia - Río Grande    123.0  ...     09   \n",
      "45287         Patagónica       N    Ushuaia - Río Grande    123.0  ...     09   \n",
      "45288         Patagónica       N    Ushuaia - Río Grande    123.0  ...     09   \n",
      "\n",
      "      ideccfr rdeccfr gdeccfr pdeccfr adeccfr pj1_1 pj2_1 pj3_1 idimpp  \n",
      "0                  06      06              04   0.0   0.0   0.0  00000  \n",
      "1                  00      00              00   0.0   0.0   0.0  00000  \n",
      "2                  07      07              05   0.0   0.0   0.0  00020  \n",
      "3                  08      08              06   0.0   0.0   0.0  00000  \n",
      "4                  08      08              06   0.0   0.0   0.0  00000  \n",
      "...       ...     ...     ...     ...     ...   ...   ...   ...    ...  \n",
      "45284      09      08              09      07   0.0   0.0   0.0  00000  \n",
      "45285      09      08              09      07   0.0   0.0   0.0  00000  \n",
      "45286      09      08              09      07   0.0   0.0   0.0  00000  \n",
      "45287      09      08              09      07   0.0   0.0   0.0  00000  \n",
      "45288      09      08              09      07   0.0   0.0   0.0  00000  \n",
      "\n",
      "[45289 rows x 176 columns]\n"
     ]
    }
   ],
   "source": [
    "os.getcwd() # Ver donde estamos ubicados\n",
    "os.chdir(\"/Users/francodeangelis/Documents/Udesa/cuarto /Big data /BigDataUdeSA/ejercico 1/t104_dta\")# Ubicarnos en la carpeta con todos los archivos de esta tutorial\n",
    "\n",
    "df04 = pd.read_stata(\"Individual_t104.dta\")\n",
    "print(df04)\n"
   ]
  },
  {
   "cell_type": "code",
   "execution_count": 87,
   "id": "4d7287ab-e6dc-49e9-a907-052b47920c19",
   "metadata": {
    "scrolled": true
   },
   "outputs": [
    {
     "name": "stdout",
     "output_type": "stream",
     "text": [
      "         CODUSU  nro_hogar componente  h15    ano4       trimestre    region  \\\n",
      "41278  125349          1.0        1.0   Sí  2004.0  1er. Trimestre  Pampeana   \n",
      "41279  125349          1.0        2.0   Sí  2004.0  1er. Trimestre  Pampeana   \n",
      "41280  125349          1.0        3.0   Sí  2004.0  1er. Trimestre  Pampeana   \n",
      "41281  125349          1.0        4.0   Sí  2004.0  1er. Trimestre  Pampeana   \n",
      "41282  125349          1.0        5.0   Sí  2004.0  1er. Trimestre  Pampeana   \n",
      "...         ...        ...        ...  ...     ...             ...       ...   \n",
      "42020  288189          1.0        2.0   Sí  2004.0  1er. Trimestre  Pampeana   \n",
      "42021  288189          1.0        3.0   Sí  2004.0  1er. Trimestre  Pampeana   \n",
      "42022  288189          1.0        4.0   Sí  2004.0  1er. Trimestre  Pampeana   \n",
      "42023  288189          1.0        5.0  0.0  2004.0  1er. Trimestre  Pampeana   \n",
      "42024  288189          1.0        6.0   Sí  2004.0  1er. Trimestre  Pampeana   \n",
      "\n",
      "      mas_500  aglomerado  pondera  ... deccfr ideccfr rdeccfr gdeccfr  \\\n",
      "41278       N  Río Cuarto    145.0  ...     02      02      01           \n",
      "41279       N  Río Cuarto    145.0  ...     02      02      01           \n",
      "41280       N  Río Cuarto    145.0  ...     02      02      01           \n",
      "41281       N  Río Cuarto    145.0  ...     02      02      01           \n",
      "41282       N  Río Cuarto    145.0  ...     02      02      01           \n",
      "...       ...         ...      ...  ...    ...     ...     ...     ...   \n",
      "42020       N  Río Cuarto    193.0  ...     01      01      01           \n",
      "42021       N  Río Cuarto    193.0  ...     01      01      01           \n",
      "42022       N  Río Cuarto    193.0  ...     01      01      01           \n",
      "42023       N  Río Cuarto    193.0  ...     01      01      01           \n",
      "42024       N  Río Cuarto    193.0  ...     01      01      01           \n",
      "\n",
      "      pdeccfr adeccfr pj1_1 pj2_1 pj3_1 idimpp  \n",
      "41278      02      01   0.0   0.0   0.0  40000  \n",
      "41279      02      01   0.0   0.0   0.0  40000  \n",
      "41280      02      01   0.0   0.0   0.0  00000  \n",
      "41281      02      01   0.0   0.0   0.0  00000  \n",
      "41282      02      01   0.0   0.0   0.0  00000  \n",
      "...       ...     ...   ...   ...   ...    ...  \n",
      "42020      01      01   0.0   0.0   0.0  00000  \n",
      "42021      01      01   0.0   0.0   0.0  00000  \n",
      "42022      01      01   0.0   0.0   0.0  00000  \n",
      "42023      01      01   0.0   0.0   0.0  00000  \n",
      "42024      01      01   0.0   0.0   0.0  00000  \n",
      "\n",
      "[747 rows x 176 columns]\n"
     ]
    }
   ],
   "source": [
    "# Filtro los datos  \n",
    "df04=df04[df04['region']==\"Pampeana\"]  \n",
    "df04=df04[(df04['aglomerado']==\"Río Cuarto\") | (df04['aglomerado']==\"Gran Cordoba\") | (df04['aglomerado']==\"Santa Rosa\")]  \n",
    "print(df04)\n"
   ]
  },
  {
   "cell_type": "code",
   "execution_count": 89,
   "id": "bc5b2043-e55b-429d-9f14-901a244b3ad2",
   "metadata": {},
   "outputs": [],
   "source": [
    "\n",
    "# ---- Normalizar nombres de columnas ----\n",
    "df24.columns = df24.columns.str.upper().str.strip()  # Convertir a mayúsculas y eliminar espacios\n",
    "df04.columns = df04.columns.str.upper().str.strip()  # Convertir a mayúsculas y eliminar espacios"
   ]
  },
  {
   "cell_type": "code",
   "execution_count": 91,
   "id": "06e43be0-b9c6-4542-bca6-1843fee8fdb2",
   "metadata": {},
   "outputs": [
    {
     "name": "stdout",
     "output_type": "stream",
     "text": [
      "(4883, 181)\n",
      "                              CODUSU    ANO4       TRIMESTRE  NRO_HOGAR  \\\n",
      "67     TQRMNOSYUHKNKMCDEIGED00856897  2024.0               1        1.0   \n",
      "68     TQRMNOSYUHKNKMCDEIGED00856897  2024.0               1        1.0   \n",
      "115    TQRMNORTVHLOKQCDEIMBF00855868  2024.0               1        1.0   \n",
      "116    TQRMNORTVHLOKQCDEIMBF00855868  2024.0               1        1.0   \n",
      "117    TQRMNORSXHMLLOCDEIMBF00802814  2024.0               1        1.0   \n",
      "...                              ...     ...             ...        ...   \n",
      "42020                       288189    2004.0  1er. Trimestre        1.0   \n",
      "42021                       288189    2004.0  1er. Trimestre        1.0   \n",
      "42022                       288189    2004.0  1er. Trimestre        1.0   \n",
      "42023                       288189    2004.0  1er. Trimestre        1.0   \n",
      "42024                       288189    2004.0  1er. Trimestre        1.0   \n",
      "\n",
      "      COMPONENTE  H15    REGION MAS_500  AGLOMERADO  PONDERA  ... IDECCFR  \\\n",
      "67             1    1        43       N          30    159.0  ...     7.0   \n",
      "68             2    1        43       N          30    159.0  ...     7.0   \n",
      "115            1    1        43       N          36    138.0  ...     3.0   \n",
      "116            2    1        43       N          36    138.0  ...     3.0   \n",
      "117            1    1        43       N          36    149.0  ...    10.0   \n",
      "...          ...  ...       ...     ...         ...      ...  ...     ...   \n",
      "42020        2.0   Sí  Pampeana       N  Río Cuarto    193.0  ...      01   \n",
      "42021        3.0   Sí  Pampeana       N  Río Cuarto    193.0  ...      01   \n",
      "42022        4.0   Sí  Pampeana       N  Río Cuarto    193.0  ...      01   \n",
      "42023        5.0  0.0  Pampeana       N  Río Cuarto    193.0  ...      01   \n",
      "42024        6.0   Sí  Pampeana       N  Río Cuarto    193.0  ...      01   \n",
      "\n",
      "      RDECCFR GDECCFR PDECCFR ADECCFR PONDIH PJ1_1 PJ2_1 PJ3_1 IDIMPP  \n",
      "67          7     NaN     8.0       6  231.0   NaN   NaN   NaN    NaN  \n",
      "68          7     NaN     8.0       6  231.0   NaN   NaN   NaN    NaN  \n",
      "115         3     NaN     4.0       3  144.0   NaN   NaN   NaN    NaN  \n",
      "116         3     NaN     4.0       3  144.0   NaN   NaN   NaN    NaN  \n",
      "117        10     NaN    10.0      10  194.0   NaN   NaN   NaN    NaN  \n",
      "...       ...     ...     ...     ...    ...   ...   ...   ...    ...  \n",
      "42020      01              01      01    NaN   0.0   0.0   0.0  00000  \n",
      "42021      01              01      01    NaN   0.0   0.0   0.0  00000  \n",
      "42022      01              01      01    NaN   0.0   0.0   0.0  00000  \n",
      "42023      01              01      01    NaN   0.0   0.0   0.0  00000  \n",
      "42024      01              01      01    NaN   0.0   0.0   0.0  00000  \n",
      "\n",
      "[4883 rows x 181 columns]\n"
     ]
    }
   ],
   "source": [
    "\n",
    "df = pd.concat([df24, df04])\n",
    "print(df.shape)\n",
    "print(df)"
   ]
  },
  {
   "cell_type": "code",
   "execution_count": 93,
   "id": "da72696b-361c-4704-b398-86cdd3ca7dfc",
   "metadata": {},
   "outputs": [
    {
     "data": {
      "text/html": [
       "<div>\n",
       "<style scoped>\n",
       "    .dataframe tbody tr th:only-of-type {\n",
       "        vertical-align: middle;\n",
       "    }\n",
       "\n",
       "    .dataframe tbody tr th {\n",
       "        vertical-align: top;\n",
       "    }\n",
       "\n",
       "    .dataframe thead th {\n",
       "        text-align: right;\n",
       "    }\n",
       "</style>\n",
       "<table border=\"1\" class=\"dataframe\">\n",
       "  <thead>\n",
       "    <tr style=\"text-align: right;\">\n",
       "      <th></th>\n",
       "      <th>PP02C1</th>\n",
       "      <th>PP02C2</th>\n",
       "      <th>PP02C3</th>\n",
       "      <th>PP02C4</th>\n",
       "      <th>PP02C5</th>\n",
       "      <th>PP02C6</th>\n",
       "    </tr>\n",
       "  </thead>\n",
       "  <tbody>\n",
       "    <tr>\n",
       "      <th>count</th>\n",
       "      <td>4883</td>\n",
       "      <td>4883</td>\n",
       "      <td>4883</td>\n",
       "      <td>4883</td>\n",
       "      <td>4883</td>\n",
       "      <td>4883</td>\n",
       "    </tr>\n",
       "    <tr>\n",
       "      <th>unique</th>\n",
       "      <td>5</td>\n",
       "      <td>5</td>\n",
       "      <td>5</td>\n",
       "      <td>5</td>\n",
       "      <td>5</td>\n",
       "      <td>5</td>\n",
       "    </tr>\n",
       "    <tr>\n",
       "      <th>top</th>\n",
       "      <td>0</td>\n",
       "      <td>0</td>\n",
       "      <td>0</td>\n",
       "      <td>0</td>\n",
       "      <td>0</td>\n",
       "      <td>0</td>\n",
       "    </tr>\n",
       "    <tr>\n",
       "      <th>freq</th>\n",
       "      <td>4714</td>\n",
       "      <td>4714</td>\n",
       "      <td>4714</td>\n",
       "      <td>4714</td>\n",
       "      <td>4714</td>\n",
       "      <td>4714</td>\n",
       "    </tr>\n",
       "  </tbody>\n",
       "</table>\n",
       "</div>"
      ],
      "text/plain": [
       "        PP02C1  PP02C2  PP02C3  PP02C4  PP02C5  PP02C6\n",
       "count     4883    4883    4883    4883    4883    4883\n",
       "unique       5       5       5       5       5       5\n",
       "top          0       0       0       0       0       0\n",
       "freq      4714    4714    4714    4714    4714    4714"
      ]
     },
     "execution_count": 93,
     "metadata": {},
     "output_type": "execute_result"
    }
   ],
   "source": [
    "df[['PP02C1', 'PP02C2', 'PP02C3', 'PP02C4', 'PP02C5', 'PP02C6']].describe()\n"
   ]
  },
  {
   "cell_type": "code",
   "execution_count": 95,
   "id": "56414734-a741-4efb-9c67-70dd343b68c9",
   "metadata": {},
   "outputs": [],
   "source": [
    "df.to_excel(\"Tabla_acortada1.xlsx\", index = False)"
   ]
  },
  {
   "cell_type": "code",
   "execution_count": 96,
   "id": "4ae960ce-f4a5-4229-9e5d-a6c1d762679c",
   "metadata": {},
   "outputs": [
    {
     "data": {
      "image/png": "[encoded data removed]",
      "text/plain": [
       "<Figure size 800x600 with 2 Axes>"
      ]
     },
     "metadata": {},
     "output_type": "display_data"
    }
   ],
   "source": [
    "#Item B\n",
    "import matplotlib.pyplot as plt   \n",
    "import seaborn as sns\n",
    "\n",
    "variables_interes=['NIVEL_ED','ESTADO','CAT_OCUP','CAT_INAC','PP02C1','PP02C2','PP02C3','PP02C4','PP02C5','PP02C6']\n",
    "df_interes = df[variables_interes]\n",
    "\n",
    "missing_data = df_interes.isnull() # Nuevo DF donde cada celda contiene un valor True si el dato está faltante (es NaN), o False si el dato está presente. Este nuevo DataFrame missing_data es el que usaremos para crear el heatmap.\n",
    "\n",
    "plt.figure(figsize=(8, 6))  # Establecemos el tamaño de la figura del gráfico\n",
    "sns.heatmap(missing_data, annot=False, cmap='coolwarm_r', cbar_kws={'label': 'Percentage of Non-null Data'})\n",
    "plt.title(\"Missing Data for Selected Variables\")  # Tíulo del gráfico\n",
    "plt.xlabel(\"Variables\")  # Etiqueta del eje X (columnas)\n",
    "plt.ylabel(\"Observations\")  # Etiqueta del eje Y (filas)\n",
    "plt.show()  # Muestra el gráfico\n",
    "\n"
   ]
  },
  {
   "cell_type": "code",
   "execution_count": 207,
   "id": "a8185065-712a-461b-8558-8f8597055940",
   "metadata": {
    "scrolled": true
   },
   "outputs": [
    {
     "name": "stdout",
     "output_type": "stream",
     "text": [
      "CODUSU           0\n",
      "ANO4             0\n",
      "TRIMESTRE        0\n",
      "NRO_HOGAR        0\n",
      "COMPONENTE       0\n",
      "              ... \n",
      "PONDIH         747\n",
      "PJ1_1         4136\n",
      "PJ2_1         4136\n",
      "PJ3_1         4136\n",
      "IDIMPP        4136\n",
      "Length: 181, dtype: int64\n"
     ]
    }
   ],
   "source": [
    "#Item C\n",
    "import numpy as np\n",
    "\n",
    "#Queremos reemplazar por nan los valores sin sentidos. \n",
    "\n",
    "#Consideraciones:\n",
    "\n",
    "#CH06 (Edad): Valores negativos o mayores a 120 son erróneos.\n",
    "df['CH06'] = pd.to_numeric(df['CH06'], errors='coerce')   #Estan almacenadas como texto (str) entonces la cambiamos a números (int o float). Esto impide compararlas con valores numéricos.\n",
    "df.loc[(df['CH06'] < 0) | (df['CH06'] > 120), 'CH06'] = np.nan\n",
    "\n",
    "#P21, P47T, ITF, IPCF (Ingresos): Valores negativos son inconsistentes salvo excepciones justificadas.\n",
    "ingresos_vars = ['P21', 'P47T', 'ITF', 'IPCF']\n",
    "for var in ingresos_vars:\n",
    "    df[var] = pd.to_numeric(df[var], errors='coerce')\n",
    "    df.loc[df[var] < 0, var] = np.nan\n",
    "     \n",
    "#PP3E_TOT, PP3F_TOT (Horas trabajadas): Valores negativos o superiores a 100 por semana no son realistas.\n",
    "horas_vars = ['PP3E_TOT', 'PP3F_TOT']\n",
    "for var in horas_vars:\n",
    "    df.loc[(df[var] < 0) | (df[var] > 100), var] = np.nan\n",
    "    \n",
    "#CH14 (Último año aprobado): Valores fuera del rango 00-09 (excepto casos especiales como 98 o 99).\n",
    "df['CH14'] = pd.to_numeric(df['CH14'], errors='coerce')\n",
    "df.loc[~df['CH14'].between(0, 9), 'CH14'] = np.nan\n",
    "\n",
    "#PP04B3_MES, PP04B3_ANO, PP04B3_DIA (Tiempo trabajado): Fechas imposibles como meses fuera de 1-12 o días fuera de 1-31\n",
    "df['PP04B3_MES'] = pd.to_numeric(df['PP04B3_MES'], errors='coerce')\n",
    "df['PP04B3_DIA'] = pd.to_numeric(df['PP04B3_DIA'], errors='coerce')\n",
    "df.loc[(df['PP04B3_MES'] < 1) | (df['PP04B3_MES'] > 12), 'PP04B3_MES'] = np.nan\n",
    "df.loc[(df['PP04B3_DIA'] < 1) | (df['PP04B3_DIA'] > 31), 'PP04B3_DIA'] = np.nan\n",
    "\n",
    "# Verificar cuántos valores se convirtieron en NaN\n",
    "print(df.isnull().sum())  #muestra el conteo de valores faltantes (NaN) por cada variable en el DataFrame"
   ]
  },
  {
   "cell_type": "code",
   "execution_count": 99,
   "id": "89b8933a-3b43-486e-b7f9-14185b4bb419",
   "metadata": {},
   "outputs": [
    {
     "name": "stdout",
     "output_type": "stream",
     "text": [
      "Columnas con valores mixtos (números y texto):\n",
      "['TRIMESTRE', 'COMPONENTE', 'H15', 'REGION', 'AGLOMERADO', 'CH03', 'CH04', 'CH06', 'CH07', 'CH08', 'CH09', 'CH10', 'CH11', 'CH12', 'CH13', 'CH14', 'CH15', 'CH15_COD', 'CH16', 'CH16_COD', 'NIVEL_ED', 'ESTADO', 'CAT_OCUP', 'CAT_INAC', 'PP02C1', 'PP02C2', 'PP02C3', 'PP02C4', 'PP02C5', 'PP02C6', 'PP02C7', 'PP02C8', 'PP02E', 'PP02H', 'PP02I', 'PP03C', 'PP03G', 'PP03H', 'PP03I', 'PP03J', 'INTENSI', 'PP04A', 'PP04B_COD', 'PP04B1', 'PP04C', 'PP04C99', 'PP04D_COD', 'PP04G', 'PP05C_1', 'PP05C_2', 'PP05C_3', 'PP05E', 'PP05F', 'PP05H', 'PP06A', 'PP06C', 'PP06D', 'PP06E', 'PP06H', 'PP07A', 'PP07C', 'PP07D', 'PP07E', 'PP07F1', 'PP07F2', 'PP07F3', 'PP07F4', 'PP07F5', 'PP07G1', 'PP07G2', 'PP07G3', 'PP07G4', 'PP07H', 'PP07I', 'PP07J', 'PP07K', 'PP08D1', 'PP08F1', 'PP08J1', 'PP08J3', 'PP10A', 'PP10C', 'PP10D', 'PP10E', 'PP11A', 'PP11B_COD', 'PP11B1', 'PP11C', 'PP11C99', 'PP11D_COD', 'PP11L', 'PP11L1', 'PP11M', 'PP11N', 'PP11O', 'PP11P', 'PP11Q', 'PP11R', 'PP11S', 'PP11T', 'P21', 'DECOCUR', 'IDECOCUR', 'RDECOCUR', 'GDECOCUR', 'PDECOCUR', 'ADECOCUR', 'TOT_P12', 'P47T', 'GDECINDR', 'V2_M', 'V3_M', 'V4_M', 'V5_M', 'V8_M', 'V9_M', 'V10_M', 'V11_M', 'V12_M', 'V18_M', 'V21_M', 'T_VI', 'GDECIFR', 'GDECCFR', 'PJ1_1', 'PJ2_1', 'PJ3_1']\n"
     ]
    }
   ],
   "source": [
    "#2d\n",
    "import pandas as pd\n",
    "import numpy as np\n",
    "\n",
    "def check_mixed_values(df):\n",
    "    \"\"\"\n",
    "    Función para detectar columnas con valores mixtos (numéricos y texto) en un DataFrame.\n",
    "    \"\"\"\n",
    "    mixed_columns = []\n",
    "    for col in df.columns:\n",
    "        valores_unicos = df[col].dropna().astype(str).unique()  # Convertir todo a string para analizar\n",
    "        tiene_numeros = any(v.replace('.', '', 1).isdigit() for v in valores_unicos)\n",
    "        tiene_texto = any(not v.replace('.', '', 1).isdigit() for v in valores_unicos)\n",
    "        \n",
    "        if tiene_numeros and tiene_texto:\n",
    "            mixed_columns.append(col)\n",
    "    \n",
    "    if mixed_columns:\n",
    "        print(\"Columnas con valores mixtos (números y texto):\")\n",
    "        print(mixed_columns)  # <-- Esta es la única impresión\n",
    "    else:\n",
    "        print(\"✅ Todas las columnas tienen valores homogéneos.\")\n",
    "    \n",
    "    return mixed_columns  # Solo devuelve la lista sin imprimirla de nuevo\n",
    "\n",
    "# Cargar la base de datos\n",
    "def load_and_check():\n",
    "    ruta_archivo = \"/Users/francodeangelis/Documents/E337--8/Big_Data_TP1_Grupo8/Tabla_acortada1.xlsx\"\n",
    "    df = pd.read_excel(ruta_archivo)  # Evitar conversión automática de categorías\n",
    "    df.columns = df.columns.str.upper()  # Convertir nombres de columnas a mayúsculas para mantener consistencia\n",
    "    return check_mixed_values(df)\n",
    "\n",
    "# Ejecutar la comprobación\n",
    "_ = load_and_check()  # <-- El _ evita que se imprima el retorno es menos violento el output de este"
   ]
  },
  {
   "cell_type": "code",
   "execution_count": 229,
   "id": "8758ba0f-e097-4e2b-aa9f-dc6b2b567308",
   "metadata": {},
   "outputs": [
    {
     "name": "stdout",
     "output_type": "stream",
     "text": [
      "['TRIMESTRE', 'COMPONENTE', 'H15', 'REGION', 'AGLOMERADO', 'CH03', 'CH04', 'CH06', 'CH07', 'CH08', 'CH09', 'CH10', 'CH11', 'CH12', 'CH13', 'CH14', 'CH15', 'CH15_COD', 'CH16', 'CH16_COD', 'NIVEL_ED', 'ESTADO', 'CAT_OCUP', 'CAT_INAC', 'PP02C1', 'PP02C2', 'PP02C3', 'PP02C4', 'PP02C5', 'PP02C6', 'PP02C7', 'PP02C8', 'PP02E', 'PP02H', 'PP02I', 'PP03C', 'PP03G', 'PP03H', 'PP03I', 'PP03J', 'INTENSI', 'PP04A', 'PP04B_COD', 'PP04B1', 'PP04C', 'PP04C99', 'PP04D_COD', 'PP04G', 'PP05C_1', 'PP05C_2', 'PP05C_3', 'PP05E', 'PP05F', 'PP05H', 'PP06A', 'PP06C', 'PP06D', 'PP06E', 'PP06H', 'PP07A', 'PP07C', 'PP07D', 'PP07E', 'PP07F1', 'PP07F2', 'PP07F3', 'PP07F4', 'PP07F5', 'PP07G1', 'PP07G2', 'PP07G3', 'PP07G4', 'PP07H', 'PP07I', 'PP07J', 'PP07K', 'PP08D1', 'PP08F1', 'PP08J1', 'PP08J3', 'PP10A', 'PP10C', 'PP10D', 'PP10E', 'PP11A', 'PP11B_COD', 'PP11B1', 'PP11C', 'PP11C99', 'PP11D_COD', 'PP11L', 'PP11L1', 'PP11M', 'PP11N', 'PP11O', 'PP11P', 'PP11Q', 'PP11R', 'PP11S', 'PP11T', 'P21', 'DECOCUR', 'IDECOCUR', 'RDECOCUR', 'GDECOCUR', 'PDECOCUR', 'ADECOCUR', 'TOT_P12', 'P47T', 'GDECINDR', 'V2_M', 'V3_M', 'V4_M', 'V5_M', 'V8_M', 'V9_M', 'V10_M', 'V11_M', 'V12_M', 'V18_M', 'V21_M', 'T_VI', 'GDECIFR', 'GDECCFR', 'PJ1_1', 'PJ2_1', 'PJ3_1']\n"
     ]
    },
    {
     "data": {
      "text/plain": [
       "{'TRIMESTRE': '',\n",
       " 'COMPONENTE': '',\n",
       " 'H15': '',\n",
       " 'REGION': '',\n",
       " 'AGLOMERADO': '',\n",
       " 'CH03': '',\n",
       " 'CH04': '',\n",
       " 'CH06': '',\n",
       " 'CH07': '',\n",
       " 'CH08': '',\n",
       " 'CH09': '',\n",
       " 'CH10': '',\n",
       " 'CH11': '',\n",
       " 'CH12': '',\n",
       " 'CH13': '',\n",
       " 'CH14': '',\n",
       " 'CH15': '',\n",
       " 'CH15_COD': '',\n",
       " 'CH16': '',\n",
       " 'CH16_COD': '',\n",
       " 'NIVEL_ED': '',\n",
       " 'ESTADO': '',\n",
       " 'CAT_OCUP': '',\n",
       " 'CAT_INAC': '',\n",
       " 'PP02C1': '',\n",
       " 'PP02C2': '',\n",
       " 'PP02C3': '',\n",
       " 'PP02C4': '',\n",
       " 'PP02C5': '',\n",
       " 'PP02C6': '',\n",
       " 'PP02C7': '',\n",
       " 'PP02C8': '',\n",
       " 'PP02E': '',\n",
       " 'PP02H': '',\n",
       " 'PP02I': '',\n",
       " 'PP03C': '',\n",
       " 'PP03G': '',\n",
       " 'PP03H': '',\n",
       " 'PP03I': '',\n",
       " 'PP03J': '',\n",
       " 'INTENSI': '',\n",
       " 'PP04A': '',\n",
       " 'PP04B_COD': '',\n",
       " 'PP04B1': '',\n",
       " 'PP04C': '',\n",
       " 'PP04C99': '',\n",
       " 'PP04D_COD': '',\n",
       " 'PP04G': '',\n",
       " 'PP05C_1': '',\n",
       " 'PP05C_2': '',\n",
       " 'PP05C_3': '',\n",
       " 'PP05E': '',\n",
       " 'PP05F': '',\n",
       " 'PP05H': '',\n",
       " 'PP06A': '',\n",
       " 'PP06C': '',\n",
       " 'PP06D': '',\n",
       " 'PP06E': '',\n",
       " 'PP06H': '',\n",
       " 'PP07A': '',\n",
       " 'PP07C': '',\n",
       " 'PP07D': '',\n",
       " 'PP07E': '',\n",
       " 'PP07F1': '',\n",
       " 'PP07F2': '',\n",
       " 'PP07F3': '',\n",
       " 'PP07F4': '',\n",
       " 'PP07F5': '',\n",
       " 'PP07G1': '',\n",
       " 'PP07G2': '',\n",
       " 'PP07G3': '',\n",
       " 'PP07G4': '',\n",
       " 'PP07H': '',\n",
       " 'PP07I': '',\n",
       " 'PP07J': '',\n",
       " 'PP07K': '',\n",
       " 'PP08D1': '',\n",
       " 'PP08F1': '',\n",
       " 'PP08J1': '',\n",
       " 'PP08J3': '',\n",
       " 'PP10A': '',\n",
       " 'PP10C': '',\n",
       " 'PP10D': '',\n",
       " 'PP10E': '',\n",
       " 'PP11A': '',\n",
       " 'PP11B_COD': '',\n",
       " 'PP11B1': '',\n",
       " 'PP11C': '',\n",
       " 'PP11C99': '',\n",
       " 'PP11D_COD': '',\n",
       " 'PP11L': '',\n",
       " 'PP11L1': '',\n",
       " 'PP11M': '',\n",
       " 'PP11N': '',\n",
       " 'PP11O': '',\n",
       " 'PP11P': '',\n",
       " 'PP11Q': '',\n",
       " 'PP11R': '',\n",
       " 'PP11S': '',\n",
       " 'PP11T': '',\n",
       " 'P21': '',\n",
       " 'DECOCUR': '',\n",
       " 'IDECOCUR': '',\n",
       " 'RDECOCUR': '',\n",
       " 'GDECOCUR': '',\n",
       " 'PDECOCUR': '',\n",
       " 'ADECOCUR': '',\n",
       " 'TOT_P12': '',\n",
       " 'P47T': '',\n",
       " 'GDECINDR': '',\n",
       " 'V2_M': '',\n",
       " 'V3_M': '',\n",
       " 'V4_M': '',\n",
       " 'V5_M': '',\n",
       " 'V8_M': '',\n",
       " 'V9_M': '',\n",
       " 'V10_M': '',\n",
       " 'V11_M': '',\n",
       " 'V12_M': '',\n",
       " 'V18_M': '',\n",
       " 'V21_M': '',\n",
       " 'T_VI': '',\n",
       " 'GDECIFR': '',\n",
       " 'GDECCFR': '',\n",
       " 'PJ1_1': '',\n",
       " 'PJ2_1': '',\n",
       " 'PJ3_1': ''}"
      ]
     },
     "execution_count": 229,
     "metadata": {},
     "output_type": "execute_result"
    }
   ],
   "source": [
    "diccionario=['TRIMESTRE', 'COMPONENTE', 'H15', 'REGION', 'AGLOMERADO', 'CH03', 'CH04', 'CH06', 'CH07', 'CH08', 'CH09', 'CH10', 'CH11', 'CH12', 'CH13', 'CH14', 'CH15', 'CH15_COD', 'CH16', 'CH16_COD', 'NIVEL_ED', 'ESTADO', 'CAT_OCUP', 'CAT_INAC', 'PP02C1', 'PP02C2', 'PP02C3', 'PP02C4', 'PP02C5', 'PP02C6', 'PP02C7', 'PP02C8', 'PP02E', 'PP02H', 'PP02I', 'PP03C', 'PP03G', 'PP03H', 'PP03I', 'PP03J', 'INTENSI', 'PP04A', 'PP04B_COD', 'PP04B1', 'PP04C', 'PP04C99', 'PP04D_COD', 'PP04G', 'PP05C_1', 'PP05C_2', 'PP05C_3', 'PP05E', 'PP05F', 'PP05H', 'PP06A', 'PP06C', 'PP06D', 'PP06E', 'PP06H', 'PP07A', 'PP07C', 'PP07D', 'PP07E', 'PP07F1', 'PP07F2', 'PP07F3', 'PP07F4', 'PP07F5', 'PP07G1', 'PP07G2', 'PP07G3', 'PP07G4', 'PP07H', 'PP07I', 'PP07J', 'PP07K', 'PP08D1', 'PP08F1', 'PP08J1', 'PP08J3', 'PP10A', 'PP10C', 'PP10D', 'PP10E', 'PP11A', 'PP11B_COD', 'PP11B1', 'PP11C', 'PP11C99', 'PP11D_COD', 'PP11L', 'PP11L1', 'PP11M', 'PP11N', 'PP11O', 'PP11P', 'PP11Q', 'PP11R', 'PP11S', 'PP11T', 'P21', 'DECOCUR', 'IDECOCUR', 'RDECOCUR', 'GDECOCUR', 'PDECOCUR', 'ADECOCUR', 'TOT_P12', 'P47T', 'GDECINDR', 'V2_M', 'V3_M', 'V4_M', 'V5_M', 'V8_M', 'V9_M', 'V10_M', 'V11_M', 'V12_M', 'V18_M', 'V21_M', 'T_VI', 'GDECIFR', 'GDECCFR', 'PJ1_1', 'PJ2_1', 'PJ3_1']\n",
    "print(diccionario)\n",
    "info_diccionario = dict.fromkeys(diccionario, '')\n",
    "info_diccionario\n"
   ]
  },
  {
   "cell_type": "code",
   "execution_count": 231,
   "id": "7599ce4d-c272-4045-a163-bf7223521c8c",
   "metadata": {
    "scrolled": true
   },
   "outputs": [
    {
     "name": "stdout",
     "output_type": "stream",
     "text": [
      "            TRIMESTRE    REGION  CH04  CH06\n",
      "67   Primer Trimestre  Pampeana   NaN  46.0\n",
      "68   Primer Trimestre  Pampeana   NaN  48.0\n",
      "115  Primer Trimestre  Pampeana   NaN  55.0\n",
      "116  Primer Trimestre  Pampeana   NaN  41.0\n",
      "117  Primer Trimestre  Pampeana   NaN  74.0\n"
     ]
    }
   ],
   "source": [
    "diccionario_reemplazo = {  \n",
    "    \"CH04\": {  \n",
    "        1: \"Hombre\",  \n",
    "        2: \"Mujer\",  \n",
    "        \"Varón\": \"Hombre\"  # Unificar nombres  \n",
    "    },  \n",
    "    \"TRIMESTRE\": {  \n",
    "        1: \"1er. Trimestre\",  \n",
    "        \"1er. Trimestre\": \"Primer Trimestre\"  # Unificar formato  \n",
    "    },  \n",
    "    \"REGION\": {  \n",
    "        43: \"Pampeana\"  # Solo tiene este valor  \n",
    "    },  \n",
    "\n",
    "}  \n",
    "df.replace(diccionario_reemplazo, inplace=True)\n",
    "\n",
    "# Verificar los cambios\n",
    "print(df[[\"TRIMESTRE\", \"REGION\", \"CH04\", \"CH06\"]].head())\n"
   ]
  },
  {
   "cell_type": "code",
   "execution_count": 233,
   "id": "98445836-10b7-41dc-8ef3-b69b87711a86",
   "metadata": {},
   "outputs": [
    {
     "data": {
      "text/plain": [
       "array([nan])"
      ]
     },
     "execution_count": 233,
     "metadata": {},
     "output_type": "execute_result"
    }
   ],
   "source": [
    "#df[\"TRIMESTRE\"].unique()\n",
    "#df[\"REGION\"].unique()\n",
    "df[\"CH04\"].unique()\n",
    "#df[\"CH06\"].unique()\n"
   ]
  },
  {
   "cell_type": "code",
   "execution_count": 235,
   "id": "fc9b1f7b-945c-45bb-8213-543854d84550",
   "metadata": {},
   "outputs": [
    {
     "name": "stdout",
     "output_type": "stream",
     "text": [
      "[ 46.  48.  55.  41.  74.  77.  52.  82.  32.  nan  73.  64.  63.  59.\n",
      "  34.  26.  20.  69.  87.  49.  43.  51.  50.  44.  42.  11.  18.  28.\n",
      "  22.  62.  15.  21.  71.  39.  37.  33.  16.  57.  61.  40.  31.  19.\n",
      "  13.  79.  25.  23.  14.  56.  75.  36.  38.  30.  67.  29.  84.  45.\n",
      "  78.  58.  24.  12.  70.  91.  35.  66.  65.  47.  60.  99.  54.  17.\n",
      "  76.  72.  53.  86.  81.  83.  27.  68.  80.  89.  92.  90.  85.  97.\n",
      "  88.  93. 100.  96.  98.]\n"
     ]
    }
   ],
   "source": [
    "print(df[\"CH06\"].unique())"
   ]
  },
  {
   "cell_type": "code",
   "execution_count": 139,
   "id": "3b7b414b-3582-4d2c-b3a3-bb9b22b07bf4",
   "metadata": {},
   "outputs": [
    {
     "name": "stdout",
     "output_type": "stream",
     "text": [
      "(4, 3)\n"
     ]
    },
    {
     "data": {
      "image/png": "[encoded data removed]",
      "text/plain": [
       "<Figure size 800x500 with 1 Axes>"
      ]
     },
     "metadata": {},
     "output_type": "display_data"
    }
   ],
   "source": [
    "#Punto 3\n",
    "import matplotlib.pyplot as plt   \n",
    "import seaborn as sns\n",
    "print(sexo_counts.shape)\n",
    "# Contar la cantidad de personas por sexo y año\n",
    "sexo_counts = df.groupby([\"ANO4\", \"CH04\"]).size().reset_index(name=\"CANTIDAD\")\n",
    "\n",
    "# Crear el gráfico de barras\n",
    "plt.figure(figsize=(8, 5))\n",
    "sns.barplot(data=sexo_counts, x=\"ANO4\", y=\"CANTIDAD\", hue=\"CH04\", palette=\"viridis\")\n",
    "\n",
    "# Agregar etiquetas y título\n",
    "plt.xlabel(\"Año\")\n",
    "plt.ylabel(\"Cantidad de personas\")\n",
    "plt.title(\"Composición por sexo en 2004 y 2024\")\n",
    "plt.legend(title=\"Sexo\")\n",
    "plt.show()\n"
   ]
  },
  {
   "cell_type": "code",
   "execution_count": 103,
   "id": "f830c97b-7057-4cc9-a1dd-1dfc257d3463",
   "metadata": {},
   "outputs": [
    {
     "name": "stdout",
     "output_type": "stream",
     "text": [
      "     ANO4   CH04  CANTIDAD\n",
      "0  2004.0  Mujer       371\n",
      "1  2004.0  Varón       376\n",
      "2  2024.0      1      1995\n",
      "3  2024.0      2      2141\n"
     ]
    },
    {
     "data": {
      "image/png": "[encoded data removed]",
      "text/plain": [
       "<Figure size 1000x600 with 1 Axes>"
      ]
     },
     "metadata": {},
     "output_type": "display_data"
    }
   ],
   "source": []
  },
  {
   "cell_type": "code",
   "execution_count": 136,
   "id": "1ea44183-8c2d-4050-8523-ff62329502f4",
   "metadata": {},
   "outputs": [],
   "source": [
    "#Punto 4 "
   ]
  },
  {
   "cell_type": "code",
   "execution_count": 105,
   "id": "8ba348ad-c6b9-482e-bf81-27a9f0e28c26",
   "metadata": {},
   "outputs": [
    {
     "name": "stdout",
     "output_type": "stream",
     "text": [
      "Valores en ESTADO: [1 3 4 2 0 'Ocupado' 'Inactivo' 'Menor de 10 años' 'Desocupado']\n",
      "Valores en CAT_INAC: [0 4 1 3 5 6 7 2 'Estudiante' 'Ama de casa' 'Jubilado/pensionado'\n",
      " 'Menor de 6 años' 'Rentista' 'Discapacitado' 'Otros']\n",
      "Cantidad de desocupados: 45\n",
      "Cantidad de inactivos: 0\n",
      "\n",
      "Media del IPCF según estado laboral:\n",
      "ESTADO\n",
      "0                        0.000000\n",
      "1                   239947.877869\n",
      "2                   120345.119338\n",
      "3                   180695.492124\n",
      "4                   138808.523209\n",
      "Desocupado             165.683598\n",
      "Inactivo               279.347229\n",
      "Menor de 10 años       217.754656\n",
      "Ocupado                366.465620\n",
      "Name: IPCF, dtype: float64\n"
     ]
    }
   ],
   "source": [
    "#Punto 5(Me falta limpiar la base de datos)\n",
    "# Verificar valores únicos en \"ESTADO\" y \"CAT_INAC\" para evitar errores\n",
    "print(\"Valores en ESTADO:\", df[\"ESTADO\"].unique())\n",
    "print(\"Valores en CAT_INAC:\", df[\"CAT_INAC\"].unique())\n",
    "\n",
    "# Contar desocupados\n",
    "desocupados = df[df[\"ESTADO\"] == \"Desocupado\"].shape[0]\n",
    "\n",
    "# Contar inactivos\n",
    "inactivos = df[df[\"CAT_INAC\"] == \"Inactivo\"].shape[0]\n",
    "\n",
    "# Calcular media del ingreso per cápita familiar (IPCF) según estado laboral\n",
    "ipcf_media = df.groupby(\"ESTADO\")[\"IPCF\"].mean()\n",
    "\n",
    "# Mostrar resultados\n",
    "print(f\"Cantidad de desocupados: {desocupados}\")\n",
    "print(f\"Cantidad de inactivos: {inactivos}\")\n",
    "print(\"\\nMedia del IPCF según estado laboral:\")\n",
    "print(ipcf_media)\n"
   ]
  },
  {
   "cell_type": "code",
   "execution_count": 205,
   "id": "667d851d-7caa-4cc7-9f38-825590ee8deb",
   "metadata": {},
   "outputs": [
    {
     "name": "stdout",
     "output_type": "stream",
     "text": [
      "ESTADO\n",
      "1                   1872\n",
      "3                   1615\n",
      "4                    511\n",
      "Inactivo             311\n",
      "Ocupado              290\n",
      "2                    136\n",
      "Menor de 10 años     101\n",
      "Desocupado            45\n",
      "0                      2\n",
      "Name: count, dtype: int64\n",
      "Personas que respondieron: 4881\n",
      "Personas que NO respondieron: 2\n"
     ]
    }
   ],
   "source": [
    "#Punto 6(me falta limpiar la base de datos)\n",
    "print(df[\"ESTADO\"].value_counts())\n",
    "\n",
    "respondieron = df[df[\"ESTADO\"].notna()]  # Filtra los que tienen un valor válido en ESTADO\n",
    "norespondieron = df[df[\"ESTADO\"].isna()]  # Filtra los que tienen NaN en ESTADO\n",
    "\n",
    "respondieron.to_excel(\"respondieron.xlsx\", index=False)\n",
    "norespondieron.to_excel(\"norespondieron.xlsx\", index=False)\n",
    "\n",
    "print(f\"Personas que respondieron: {respondieron.shape[0]}\")\n",
    "print(f\"Personas que NO respondieron: {norespondieron.shape[0]}\")\n"
   ]
  }
 ],
 "metadata": {
  "kernelspec": {
   "display_name": "Python [conda env:base] *",
   "language": "python",
   "name": "conda-base-py"
  },
  "language_info": {
   "codemirror_mode": {
    "name": "ipython",
    "version": 3
   },
   "file_extension": ".py",
   "mimetype": "text/x-python",
   "name": "python",
   "nbconvert_exporter": "python",
   "pygments_lexer": "ipython3",
   "version": "3.12.7"
  }
 },
 "nbformat": 4,
 "nbformat_minor": 5
}
