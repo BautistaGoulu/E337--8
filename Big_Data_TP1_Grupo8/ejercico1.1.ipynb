{
 "cells": [
  {
   "cell_type": "code",
   "execution_count": 11,
   "id": "d41ff62f-cc68-42ab-bb19-32e699ba86c2",
   "metadata": {
    "scrolled": true
   },
   "outputs": [
    {
     "name": "stdout",
     "output_type": "stream",
     "text": [
      "                              CODUSU  ANO4  TRIMESTRE  NRO_HOGAR  COMPONENTE  \\\n",
      "0      TQRMNOPUTHLMKQCDEGGFB00852588  2024          1          1           3   \n",
      "1      TQRMNOPUTHLMKQCDEGGFB00852588  2024          1          1           4   \n",
      "2      TQRMNOPUTHLMKQCDEGGFB00852588  2024          1          1           5   \n",
      "3      TQRMNOPPWHLLKRCDEGGFB00852574  2024          1          1           1   \n",
      "4      TQRMNOPPWHLLKRCDEGGFB00852574  2024          1          1           2   \n",
      "...                              ...   ...        ...        ...         ...   \n",
      "46045  TQRMNOPUQHKMKNCDEIJAH00861661  2024          1          1           1   \n",
      "46046  TQRMNOPUQHKMKNCDEIJAH00861661  2024          1          1           2   \n",
      "46047  TQRMNOPUQHKMKNCDEIJAH00861661  2024          1          1           3   \n",
      "46048  TQRMNOPUQHKMKNCDEIJAH00861661  2024          1          1           4   \n",
      "46049  TQRMNOPUQHKMKNCDEIJAH00861661  2024          1          1           5   \n",
      "\n",
      "       H15  REGION MAS_500  AGLOMERADO  PONDERA  ...  PDECIFR  ADECIFR  \\\n",
      "0        1      42       S          10      439  ...      NaN       12   \n",
      "1        1      42       S          10      439  ...      NaN       12   \n",
      "2        0      42       S          10      439  ...      NaN       12   \n",
      "3        1      42       S          10      675  ...      NaN        8   \n",
      "4        1      42       S          10      675  ...      NaN        8   \n",
      "...    ...     ...     ...         ...      ...  ...      ...      ...   \n",
      "46045    1       1       S          33     3410  ...      NaN       12   \n",
      "46046    2       1       S          33     3410  ...      NaN       12   \n",
      "46047    2       1       S          33     3410  ...      NaN       12   \n",
      "46048    2       1       S          33     3410  ...      NaN       12   \n",
      "46049    2       1       S          33     3410  ...      NaN       12   \n",
      "\n",
      "           IPCF  DECCFR  IDECCFR  RDECCFR  GDECCFR  PDECCFR  ADECCFR  PONDIH  \n",
      "0           0.0      12     12.0       12     12.0      NaN       12       0  \n",
      "1           0.0      12     12.0       12     12.0      NaN       12       0  \n",
      "2           0.0      12     12.0       12     12.0      NaN       12       0  \n",
      "3      212500.0       6      6.0        6      6.0      NaN        6    1610  \n",
      "4      212500.0       6      6.0        6      6.0      NaN        6    1610  \n",
      "...         ...     ...      ...      ...      ...      ...      ...     ...  \n",
      "46045       0.0      12      NaN       12     12.0      NaN       12       0  \n",
      "46046       0.0      12      NaN       12     12.0      NaN       12       0  \n",
      "46047       0.0      12      NaN       12     12.0      NaN       12       0  \n",
      "46048       0.0      12      NaN       12     12.0      NaN       12       0  \n",
      "46049       0.0      12      NaN       12     12.0      NaN       12       0  \n",
      "\n",
      "[46050 rows x 177 columns]\n"
     ]
    }
   ],
   "source": [
    "# 2a\n",
    "import pandas as pd\n",
    "import os\n",
    "os.getcwd() # Ver donde estamos ubicados\n",
    "os.chdir(\"/Users/francodeangelis/Documents/Udesa/cuarto /Big data /BigDataUdeSA/ejercico 1/EPH_usu_1er_Trim_2024_xlsx\") # Ubicarnos en la carpeta con todos los archivos de esta tutorial\n",
    "\n",
    "df24 = pd.read_excel(\"usu_individual_T124.xlsx\")\n",
    "print(df24)\n"
   ]
  },
  {
   "cell_type": "code",
   "execution_count": 12,
   "id": "ee3d2fa0-c02c-4547-890b-d3998b69a0ce",
   "metadata": {},
   "outputs": [
    {
     "name": "stdout",
     "output_type": "stream",
     "text": [
      "                              CODUSU  ANO4  TRIMESTRE  NRO_HOGAR  COMPONENTE  \\\n",
      "67     TQRMNOSYUHKNKMCDEIGED00856897  2024          1          1           1   \n",
      "68     TQRMNOSYUHKNKMCDEIGED00856897  2024          1          1           2   \n",
      "115    TQRMNORTVHLOKQCDEIMBF00855868  2024          1          1           1   \n",
      "116    TQRMNORTVHLOKQCDEIMBF00855868  2024          1          1           2   \n",
      "117    TQRMNORSXHMLLOCDEIMBF00802814  2024          1          1           1   \n",
      "...                              ...   ...        ...        ...         ...   \n",
      "45794  TQRMNORTQHMLLOCDEIMBF00802806  2024          1          1           4   \n",
      "45795  TQRMNOQSQHKMLNCDEIMBF00861587  2024          1          1           1   \n",
      "45796  TQRMNOPSVHKMLOCDEIMBF00861588  2024          1          1           1   \n",
      "45797  TQRMNOPSVHKMLOCDEIMBF00861588  2024          1          1           2   \n",
      "45798  TQRMNOPSVHKMLOCDEIMBF00861588  2024          1          1           3   \n",
      "\n",
      "       H15  REGION MAS_500  AGLOMERADO  PONDERA  ...  PDECIFR  ADECIFR  \\\n",
      "67       1      43       N          30      159  ...      8.0        7   \n",
      "68       1      43       N          30      159  ...      8.0        7   \n",
      "115      1      43       N          36      138  ...      3.0        3   \n",
      "116      1      43       N          36      138  ...      3.0        3   \n",
      "117      1      43       N          36      149  ...     10.0       10   \n",
      "...    ...     ...     ...         ...      ...  ...      ...      ...   \n",
      "45794    0      43       N          36      180  ...     10.0       10   \n",
      "45795    1      43       N          36      184  ...      7.0        7   \n",
      "45796    1      43       N          36      217  ...      5.0        5   \n",
      "45797    1      43       N          36      217  ...      5.0        5   \n",
      "45798    0      43       N          36      217  ...      5.0        5   \n",
      "\n",
      "            IPCF  DECCFR  IDECCFR  RDECCFR  GDECCFR  PDECCFR  ADECCFR  PONDIH  \n",
      "67     266666.67       7      7.0        7      NaN      8.0        6     231  \n",
      "68     266666.67       7      7.0        7      NaN      8.0        6     231  \n",
      "115    125000.00       3      3.0        3      NaN      4.0        3     144  \n",
      "116    125000.00       3      3.0        3      NaN      4.0        3     144  \n",
      "117    685000.00      10     10.0       10      NaN     10.0       10     194  \n",
      "...          ...     ...      ...      ...      ...      ...      ...     ...  \n",
      "45794  487500.00       9      9.0        9      NaN      9.0        9     240  \n",
      "45795  600000.00      10     10.0       10      NaN     10.0       10     210  \n",
      "45796  136666.67       4      4.0        3      NaN      4.0        3     279  \n",
      "45797  136666.67       4      4.0        3      NaN      4.0        3     279  \n",
      "45798  136666.67       4      4.0        3      NaN      4.0        3     279  \n",
      "\n",
      "[4136 rows x 177 columns]\n"
     ]
    }
   ],
   "source": [
    "# Filtro los datos\n",
    "df24=df24[df24[ \"REGION\" ]== 43]\n",
    "df24=df24[(df24[ \"AGLOMERADO\" ]==36)|(df24[ \"AGLOMERADO\" ]==13)|(df24[ \"AGLOMERADO\" ]==30)]\n",
    "print(df24)"
   ]
  },
  {
   "cell_type": "code",
   "execution_count": 13,
   "id": "b78af925-1a61-4ccf-984c-d721cb834567",
   "metadata": {},
   "outputs": [
    {
     "name": "stdout",
     "output_type": "stream",
     "text": [
      "         CODUSU  nro_hogar componente  h15    ano4       trimestre  \\\n",
      "0      125098          1.0        1.0   Sí  2004.0  1er. Trimestre   \n",
      "1      125397          1.0        1.0   Sí  2004.0  1er. Trimestre   \n",
      "2      125515          1.0        1.0   Sí  2004.0  1er. Trimestre   \n",
      "3      125558          1.0        1.0   Sí  2004.0  1er. Trimestre   \n",
      "4      125558          1.0        2.0   Sí  2004.0  1er. Trimestre   \n",
      "...         ...        ...        ...  ...     ...             ...   \n",
      "45284  285733          1.0        1.0   Sí  2004.0  1er. Trimestre   \n",
      "45285  285733          1.0        2.0   Sí  2004.0  1er. Trimestre   \n",
      "45286  285733          1.0        3.0   Sí  2004.0  1er. Trimestre   \n",
      "45287  285733          1.0        4.0  0.0  2004.0  1er. Trimestre   \n",
      "45288  285733          1.0        5.0  0.0  2004.0  1er. Trimestre   \n",
      "\n",
      "                  region mas_500              aglomerado  pondera  ... deccfr  \\\n",
      "0      Gran Buenos Aires       S  Ciudad de Buenos Aires   1299.0  ...     07   \n",
      "1      Gran Buenos Aires       S  Ciudad de Buenos Aires   2018.0  ...     00   \n",
      "2      Gran Buenos Aires       S  Ciudad de Buenos Aires   1486.0  ...     07   \n",
      "3      Gran Buenos Aires       S  Ciudad de Buenos Aires   1674.0  ...     08   \n",
      "4      Gran Buenos Aires       S  Ciudad de Buenos Aires   1674.0  ...     08   \n",
      "...                  ...     ...                     ...      ...  ...    ...   \n",
      "45284         Patagónica       N    Ushuaia - Río Grande    123.0  ...     09   \n",
      "45285         Patagónica       N    Ushuaia - Río Grande    123.0  ...     09   \n",
      "45286         Patagónica       N    Ushuaia - Río Grande    123.0  ...     09   \n",
      "45287         Patagónica       N    Ushuaia - Río Grande    123.0  ...     09   \n",
      "45288         Patagónica       N    Ushuaia - Río Grande    123.0  ...     09   \n",
      "\n",
      "      ideccfr rdeccfr gdeccfr pdeccfr adeccfr pj1_1 pj2_1 pj3_1 idimpp  \n",
      "0                  06      06              04   0.0   0.0   0.0  00000  \n",
      "1                  00      00              00   0.0   0.0   0.0  00000  \n",
      "2                  07      07              05   0.0   0.0   0.0  00020  \n",
      "3                  08      08              06   0.0   0.0   0.0  00000  \n",
      "4                  08      08              06   0.0   0.0   0.0  00000  \n",
      "...       ...     ...     ...     ...     ...   ...   ...   ...    ...  \n",
      "45284      09      08              09      07   0.0   0.0   0.0  00000  \n",
      "45285      09      08              09      07   0.0   0.0   0.0  00000  \n",
      "45286      09      08              09      07   0.0   0.0   0.0  00000  \n",
      "45287      09      08              09      07   0.0   0.0   0.0  00000  \n",
      "45288      09      08              09      07   0.0   0.0   0.0  00000  \n",
      "\n",
      "[45289 rows x 176 columns]\n"
     ]
    }
   ],
   "source": [
    "os.getcwd() # Ver donde estamos ubicados\n",
    "os.chdir(\"/Users/francodeangelis/Documents/Udesa/cuarto /Big data /BigDataUdeSA/ejercico 1/t104_dta\")# Ubicarnos en la carpeta con todos los archivos de esta tutorial\n",
    "\n",
    "df04 = pd.read_stata(\"Individual_t104.dta\")\n",
    "print(df04)\n"
   ]
  },
  {
   "cell_type": "code",
   "execution_count": 14,
   "id": "4d7287ab-e6dc-49e9-a907-052b47920c19",
   "metadata": {
    "scrolled": true
   },
   "outputs": [
    {
     "name": "stdout",
     "output_type": "stream",
     "text": [
      "         CODUSU  nro_hogar componente  h15    ano4       trimestre    region  \\\n",
      "41278  125349          1.0        1.0   Sí  2004.0  1er. Trimestre  Pampeana   \n",
      "41279  125349          1.0        2.0   Sí  2004.0  1er. Trimestre  Pampeana   \n",
      "41280  125349          1.0        3.0   Sí  2004.0  1er. Trimestre  Pampeana   \n",
      "41281  125349          1.0        4.0   Sí  2004.0  1er. Trimestre  Pampeana   \n",
      "41282  125349          1.0        5.0   Sí  2004.0  1er. Trimestre  Pampeana   \n",
      "...         ...        ...        ...  ...     ...             ...       ...   \n",
      "42020  288189          1.0        2.0   Sí  2004.0  1er. Trimestre  Pampeana   \n",
      "42021  288189          1.0        3.0   Sí  2004.0  1er. Trimestre  Pampeana   \n",
      "42022  288189          1.0        4.0   Sí  2004.0  1er. Trimestre  Pampeana   \n",
      "42023  288189          1.0        5.0  0.0  2004.0  1er. Trimestre  Pampeana   \n",
      "42024  288189          1.0        6.0   Sí  2004.0  1er. Trimestre  Pampeana   \n",
      "\n",
      "      mas_500  aglomerado  pondera  ... deccfr ideccfr rdeccfr gdeccfr  \\\n",
      "41278       N  Río Cuarto    145.0  ...     02      02      01           \n",
      "41279       N  Río Cuarto    145.0  ...     02      02      01           \n",
      "41280       N  Río Cuarto    145.0  ...     02      02      01           \n",
      "41281       N  Río Cuarto    145.0  ...     02      02      01           \n",
      "41282       N  Río Cuarto    145.0  ...     02      02      01           \n",
      "...       ...         ...      ...  ...    ...     ...     ...     ...   \n",
      "42020       N  Río Cuarto    193.0  ...     01      01      01           \n",
      "42021       N  Río Cuarto    193.0  ...     01      01      01           \n",
      "42022       N  Río Cuarto    193.0  ...     01      01      01           \n",
      "42023       N  Río Cuarto    193.0  ...     01      01      01           \n",
      "42024       N  Río Cuarto    193.0  ...     01      01      01           \n",
      "\n",
      "      pdeccfr adeccfr pj1_1 pj2_1 pj3_1 idimpp  \n",
      "41278      02      01   0.0   0.0   0.0  40000  \n",
      "41279      02      01   0.0   0.0   0.0  40000  \n",
      "41280      02      01   0.0   0.0   0.0  00000  \n",
      "41281      02      01   0.0   0.0   0.0  00000  \n",
      "41282      02      01   0.0   0.0   0.0  00000  \n",
      "...       ...     ...   ...   ...   ...    ...  \n",
      "42020      01      01   0.0   0.0   0.0  00000  \n",
      "42021      01      01   0.0   0.0   0.0  00000  \n",
      "42022      01      01   0.0   0.0   0.0  00000  \n",
      "42023      01      01   0.0   0.0   0.0  00000  \n",
      "42024      01      01   0.0   0.0   0.0  00000  \n",
      "\n",
      "[747 rows x 176 columns]\n"
     ]
    }
   ],
   "source": [
    "# Filtro los datos  \n",
    "df04=df04[df04['region']==\"Pampeana\"]  \n",
    "df04=df04[(df04['aglomerado']==\"Río Cuarto\") | (df04['aglomerado']==\"Gran Cordoba\") | (df04['aglomerado']==\"Santa Rosa\")]  \n",
    "print(df04)\n"
   ]
  },
  {
   "cell_type": "code",
   "execution_count": 29,
   "id": "bc5b2043-e55b-429d-9f14-901a244b3ad2",
   "metadata": {},
   "outputs": [],
   "source": [
    "\n",
    "# ---- Normalizar nombres de columnas ----\n",
    "df24.columns = df24.columns.str.upper().str.strip()  # Convertir a mayúsculas y eliminar espacios\n",
    "df04.columns = df04.columns.str.upper().str.strip()  # Convertir a mayúsculas y eliminar espacios"
   ]
  },
  {
   "cell_type": "code",
   "execution_count": 16,
   "id": "06e43be0-b9c6-4542-bca6-1843fee8fdb2",
   "metadata": {
    "scrolled": true
   },
   "outputs": [
    {
     "name": "stdout",
     "output_type": "stream",
     "text": [
      "(4883, 181)\n",
      "                              CODUSU    ANO4       TRIMESTRE  NRO_HOGAR  \\\n",
      "67     TQRMNOSYUHKNKMCDEIGED00856897  2024.0               1        1.0   \n",
      "68     TQRMNOSYUHKNKMCDEIGED00856897  2024.0               1        1.0   \n",
      "115    TQRMNORTVHLOKQCDEIMBF00855868  2024.0               1        1.0   \n",
      "116    TQRMNORTVHLOKQCDEIMBF00855868  2024.0               1        1.0   \n",
      "117    TQRMNORSXHMLLOCDEIMBF00802814  2024.0               1        1.0   \n",
      "...                              ...     ...             ...        ...   \n",
      "42020                       288189    2004.0  1er. Trimestre        1.0   \n",
      "42021                       288189    2004.0  1er. Trimestre        1.0   \n",
      "42022                       288189    2004.0  1er. Trimestre        1.0   \n",
      "42023                       288189    2004.0  1er. Trimestre        1.0   \n",
      "42024                       288189    2004.0  1er. Trimestre        1.0   \n",
      "\n",
      "      COMPONENTE  H15    REGION MAS_500  AGLOMERADO  PONDERA  ... IDECCFR  \\\n",
      "67             1    1        43       N          30    159.0  ...     7.0   \n",
      "68             2    1        43       N          30    159.0  ...     7.0   \n",
      "115            1    1        43       N          36    138.0  ...     3.0   \n",
      "116            2    1        43       N          36    138.0  ...     3.0   \n",
      "117            1    1        43       N          36    149.0  ...    10.0   \n",
      "...          ...  ...       ...     ...         ...      ...  ...     ...   \n",
      "42020        2.0   Sí  Pampeana       N  Río Cuarto    193.0  ...      01   \n",
      "42021        3.0   Sí  Pampeana       N  Río Cuarto    193.0  ...      01   \n",
      "42022        4.0   Sí  Pampeana       N  Río Cuarto    193.0  ...      01   \n",
      "42023        5.0  0.0  Pampeana       N  Río Cuarto    193.0  ...      01   \n",
      "42024        6.0   Sí  Pampeana       N  Río Cuarto    193.0  ...      01   \n",
      "\n",
      "      RDECCFR GDECCFR PDECCFR ADECCFR PONDIH PJ1_1 PJ2_1 PJ3_1 IDIMPP  \n",
      "67          7     NaN     8.0       6  231.0   NaN   NaN   NaN    NaN  \n",
      "68          7     NaN     8.0       6  231.0   NaN   NaN   NaN    NaN  \n",
      "115         3     NaN     4.0       3  144.0   NaN   NaN   NaN    NaN  \n",
      "116         3     NaN     4.0       3  144.0   NaN   NaN   NaN    NaN  \n",
      "117        10     NaN    10.0      10  194.0   NaN   NaN   NaN    NaN  \n",
      "...       ...     ...     ...     ...    ...   ...   ...   ...    ...  \n",
      "42020      01              01      01    NaN   0.0   0.0   0.0  00000  \n",
      "42021      01              01      01    NaN   0.0   0.0   0.0  00000  \n",
      "42022      01              01      01    NaN   0.0   0.0   0.0  00000  \n",
      "42023      01              01      01    NaN   0.0   0.0   0.0  00000  \n",
      "42024      01              01      01    NaN   0.0   0.0   0.0  00000  \n",
      "\n",
      "[4883 rows x 181 columns]\n"
     ]
    }
   ],
   "source": [
    "\n",
    "df = pd.concat([df24, df04])\n",
    "print(df.shape)\n",
    "print(df)"
   ]
  },
  {
   "cell_type": "code",
   "execution_count": 17,
   "id": "56414734-a741-4efb-9c67-70dd343b68c9",
   "metadata": {},
   "outputs": [],
   "source": [
    "df.to_excel(\"Tabla_acortada1.xlsx\", index = False)"
   ]
  },
  {
   "cell_type": "code",
   "execution_count": 31,
   "id": "4ae960ce-f4a5-4229-9e5d-a6c1d762679c",
   "metadata": {
    "scrolled": true
   },
   "outputs": [
    {
     "name": "stdout",
     "output_type": "stream",
     "text": [
      "                             CODUSU  ANO4       TRIMESTRE  NRO_HOGAR  \\\n",
      "0     TQRMNOSYUHKNKMCDEIGED00856897  2024               1          1   \n",
      "1     TQRMNOSYUHKNKMCDEIGED00856897  2024               1          1   \n",
      "2     TQRMNORTVHLOKQCDEIMBF00855868  2024               1          1   \n",
      "3     TQRMNORTVHLOKQCDEIMBF00855868  2024               1          1   \n",
      "4     TQRMNORSXHMLLOCDEIMBF00802814  2024               1          1   \n",
      "...                             ...   ...             ...        ...   \n",
      "4878                       288189    2004  1er. Trimestre          1   \n",
      "4879                       288189    2004  1er. Trimestre          1   \n",
      "4880                       288189    2004  1er. Trimestre          1   \n",
      "4881                       288189    2004  1er. Trimestre          1   \n",
      "4882                       288189    2004  1er. Trimestre          1   \n",
      "\n",
      "     COMPONENTE H15    REGION MAS_500  AGLOMERADO  PONDERA  ... IDECCFR  \\\n",
      "0             1   1        43       N          30      159  ...       7   \n",
      "1             2   1        43       N          30      159  ...       7   \n",
      "2             1   1        43       N          36      138  ...       3   \n",
      "3             2   1        43       N          36      138  ...       3   \n",
      "4             1   1        43       N          36      149  ...      10   \n",
      "...         ...  ..       ...     ...         ...      ...  ...     ...   \n",
      "4878          2  Sí  Pampeana       N  Río Cuarto      193  ...       1   \n",
      "4879          3  Sí  Pampeana       N  Río Cuarto      193  ...       1   \n",
      "4880          4  Sí  Pampeana       N  Río Cuarto      193  ...       1   \n",
      "4881          5   0  Pampeana       N  Río Cuarto      193  ...       1   \n",
      "4882          6  Sí  Pampeana       N  Río Cuarto      193  ...       1   \n",
      "\n",
      "     RDECCFR GDECCFR PDECCFR ADECCFR PONDIH PJ1_1 PJ2_1 PJ3_1 IDIMPP  \n",
      "0          7     NaN     8.0       6  231.0   NaN   NaN   NaN    NaN  \n",
      "1          7     NaN     8.0       6  231.0   NaN   NaN   NaN    NaN  \n",
      "2          3     NaN     4.0       3  144.0   NaN   NaN   NaN    NaN  \n",
      "3          3     NaN     4.0       3  144.0   NaN   NaN   NaN    NaN  \n",
      "4         10     NaN    10.0      10  194.0   NaN   NaN   NaN    NaN  \n",
      "...      ...     ...     ...     ...    ...   ...   ...   ...    ...  \n",
      "4878       1             1.0       1    NaN     0     0     0    0.0  \n",
      "4879       1             1.0       1    NaN     0     0     0    0.0  \n",
      "4880       1             1.0       1    NaN     0     0     0    0.0  \n",
      "4881       1             1.0       1    NaN     0     0     0    0.0  \n",
      "4882       1             1.0       1    NaN     0     0     0    0.0  \n",
      "\n",
      "[4883 rows x 181 columns]\n"
     ]
    }
   ],
   "source": [
    "#Item B\n",
    "\n",
    "import seaborn as sns\n",
    "import matplotlib.pyplot as plt\n",
    "\n",
    "variables_interes=['nivel_ed','estado','cat_ocup','cat_inac','PP02C1','PP02C2','PP02C3','PP02C4','PP02C5','PP02C6']\n",
    "df_interes = df[variables_interes]\n",
    "\n",
    "missing_data = df_interes.isnull() # Nuevo DF donde cada celda contiene un valor True si el dato está faltante (es NaN), o False si el dato está presente. Este nuevo DataFrame missing_data es el que usaremos para crear el heatmap.\n",
    "\n",
    "plt.figure(figsize=(8, 6))  # Establecemos el tamaño de la figura del gráfico\n",
    "sns.heatmap(missing_data, annot=False, cmap='coolwarm_r', cbar_kws={'label': 'Percentage of Non-null Data'})\n",
    "plt.title(\"Missing Data for Selected Variables\")  # Título del gráfico\n",
    "plt.xlabel(\"Variables\")  # Etiqueta del eje X (columnas)\n",
    "plt.ylabel(\"Observations\")  # Etiqueta del eje Y (filas)\n",
    "plt.show()  # Muestra el gráfico\n",
    "\n"
   ]
  },
  {
   "cell_type": "code",
   "execution_count": 23,
   "id": "a8185065-712a-461b-8558-8f8597055940",
   "metadata": {
    "scrolled": true
   },
   "outputs": [
    {
     "name": "stdout",
     "output_type": "stream",
     "text": [
      "None\n"
     ]
    }
   ],
   "source": [
    "#Item c \n",
    "#df.info()\n",
    "#df.describe()\n",
    "new_data=df.dropna(inplace=True)\n",
    "\n",
    "print(new_data)"
   ]
  },
  {
   "cell_type": "code",
   "execution_count": 33,
   "id": "3b7b414b-3582-4d2c-b3a3-bb9b22b07bf4",
   "metadata": {},
   "outputs": [
    {
     "data": {
      "image/png": "[encoded data removed]",
      "text/plain": [
       "<Figure size 800x500 with 1 Axes>"
      ]
     },
     "metadata": {},
     "output_type": "display_data"
    }
   ],
   "source": [
    "#Punto 3\n",
    "\n",
    "# Contar la cantidad de personas por sexo y año\n",
    "sexo_counts = df.groupby([\"ANO4\", \"CH04\"]).size().reset_index(name=\"CANTIDAD\")\n",
    "\n",
    "# Crear el gráfico de barras\n",
    "plt.figure(figsize=(8, 5))\n",
    "sns.barplot(data=sexo_counts, x=\"ANO4\", y=\"CANTIDAD\", hue=\"CH04\", palette=\"viridis\")\n",
    "\n",
    "# Agregar etiquetas y título\n",
    "plt.xlabel(\"Año\")\n",
    "plt.ylabel(\"Cantidad de personas\")\n",
    "plt.title(\"Composición por sexo en 2004 y 2024\")\n",
    "plt.legend(title=\"Sexo\")\n",
    "plt.show()\n"
   ]
  },
  {
   "cell_type": "code",
   "execution_count": null,
   "id": "1ea44183-8c2d-4050-8523-ff62329502f4",
   "metadata": {},
   "outputs": [],
   "source": [
    "#Punto 4 "
   ]
  },
  {
   "cell_type": "code",
   "execution_count": 35,
   "id": "8ba348ad-c6b9-482e-bf81-27a9f0e28c26",
   "metadata": {},
   "outputs": [
    {
     "name": "stdout",
     "output_type": "stream",
     "text": [
      "Valores en ESTADO: [1 3 4 2 0 'Ocupado' 'Inactivo' 'Menor de 10 años' 'Desocupado']\n",
      "Valores en CAT_INAC: [0 4 1 3 5 6 7 2 'Estudiante' 'Ama de casa' 'Jubilado/pensionado'\n",
      " 'Menor de 6 años' 'Rentista' 'Discapacitado' 'Otros']\n",
      "Cantidad de desocupados: 45\n",
      "Cantidad de inactivos: 0\n",
      "\n",
      "Media del IPCF según estado laboral:\n",
      "ESTADO\n",
      "0                        0.000000\n",
      "1                   239947.877869\n",
      "2                   120345.119338\n",
      "3                   180695.492124\n",
      "4                   138808.523209\n",
      "Desocupado             165.683598\n",
      "Inactivo               279.347229\n",
      "Menor de 10 años       217.754656\n",
      "Ocupado                366.465620\n",
      "Name: IPCF, dtype: float64\n"
     ]
    }
   ],
   "source": [
    "#Punto 5\n",
    "# Verificar valores únicos en \"ESTADO\" y \"CAT_INAC\" para evitar errores\n",
    "print(\"Valores en ESTADO:\", df[\"ESTADO\"].unique())\n",
    "print(\"Valores en CAT_INAC:\", df[\"CAT_INAC\"].unique())\n",
    "\n",
    "# Contar desocupados\n",
    "desocupados = df[df[\"ESTADO\"] == \"Desocupado\"].shape[0]\n",
    "\n",
    "# Contar inactivos\n",
    "inactivos = df[df[\"CAT_INAC\"] == \"Inactivo\"].shape[0]\n",
    "\n",
    "# Calcular media del ingreso per cápita familiar (IPCF) según estado laboral\n",
    "ipcf_media = df.groupby(\"ESTADO\")[\"IPCF\"].mean()\n",
    "\n",
    "# Mostrar resultados\n",
    "print(f\"Cantidad de desocupados: {desocupados}\")\n",
    "print(f\"Cantidad de inactivos: {inactivos}\")\n",
    "print(\"\\nMedia del IPCF según estado laboral:\")\n",
    "print(ipcf_media)\n"
   ]
  }
 ],
 "metadata": {
  "kernelspec": {
   "display_name": "Python [conda env:base] *",
   "language": "python",
   "name": "conda-base-py"
  },
  "language_info": {
   "codemirror_mode": {
    "name": "ipython",
    "version": 3
   },
   "file_extension": ".py",
   "mimetype": "text/x-python",
   "name": "python",
   "nbconvert_exporter": "python",
   "pygments_lexer": "ipython3",
   "version": "3.12.7"
  }
 },
 "nbformat": 4,
 "nbformat_minor": 5
}
